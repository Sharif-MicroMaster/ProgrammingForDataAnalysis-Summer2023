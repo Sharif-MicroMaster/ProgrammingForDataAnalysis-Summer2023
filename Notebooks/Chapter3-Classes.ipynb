{
 "cells": [
  {
   "cell_type": "markdown",
   "metadata": {},
   "source": [
    "![](../docs/banner.png)"
   ]
  },
  {
   "cell_type": "markdown",
   "metadata": {},
   "source": [
    "# Chapter 3: Classes"
   ]
  },
  {
   "cell_type": "markdown",
   "metadata": {},
   "source": [
    "## Python Classes\n",
    "<hr>"
   ]
  },
  {
   "cell_type": "markdown",
   "metadata": {},
   "source": [
    "### Why Create Your Own Types/Classes?\n",
    "\n",
    "\"Classes provide a means of bundling data and functionality together\" (from the [Python docs](https://docs.python.org/3/tutorial/classes.html)), in a way that's easy to use, reuse and build upon. It's easiest to discover the utility of classes through an example so let's get started!\n",
    "\n",
    "Say we want to start storing information about students and instructors in the University of British Columbia's Master of Data Science Program (MDS).\n",
    "\n",
    "```{note}\n",
    "Recall that the content of this site is adapted from material I used to teach the 2020/2021 offering of the course \"DSCI 511 Python Programming for Data Science\" for the University of British Columbia's Master of Data Science Program.\n",
    "```\n",
    "\n",
    "We'll start with first name, last name, and email address in a dictionary:"
   ]
  },
  {
   "cell_type": "code",
   "execution_count": null,
   "metadata": {},
   "outputs": [],
   "source": [
    "mds_1 = {'first': 'Tom',\n",
    "         'last': 'Beuzen',\n",
    "         'email': 'tom.beuzen@mds.com'}"
   ]
  },
  {
   "cell_type": "markdown",
   "metadata": {},
   "source": [
    "We also want to be able to extract a member's full name from their first and last name, but don't want to have to write out this information again. A function could be good for this:"
   ]
  },
  {
   "cell_type": "code",
   "execution_count": null,
   "metadata": {},
   "outputs": [],
   "source": [
    "def full_name(first, last):\n",
    "    \"\"\"Concatenate first and lastwith a space.\"\"\"\n",
    "    return f\"{first} {last}\""
   ]
  },
  {
   "cell_type": "code",
   "execution_count": null,
   "metadata": {},
   "outputs": [],
   "source": [
    "full_name(mds_1['first'], mds_1['last'])"
   ]
  },
  {
   "cell_type": "markdown",
   "metadata": {},
   "source": [
    "We can just copy-paste the same code to create new members:"
   ]
  },
  {
   "cell_type": "code",
   "execution_count": null,
   "metadata": {},
   "outputs": [],
   "source": [
    "mds_2 = {'first': 'Tiffany',\n",
    "         'last': 'Timbers',\n",
    "         'email': 'tiffany.timbers@mds.com'}\n",
    "full_name(mds_2['first'], mds_2['last'])"
   ]
  },
  {
   "cell_type": "markdown",
   "metadata": {},
   "source": [
    "### Creating a Class\n",
    "\n",
    "The above was pretty inefficient. You can imagine that the more objects we want and the more complicated the objects get (more data, more functions) the worse this problem becomes! However, this is a perfect use case for a class! A class can be thought of as a **blueprint** for creating objects, in this case MDS members.\n",
    "\n",
    "**Terminology alert**:\n",
    "- Class data = \"Attributes\"\n",
    "- Class functions = \"Methods\"\n",
    "\n",
    "**Syntax alert**:\n",
    "- We define a class with the `class` keyword, followed by a name and a colon (`:`):"
   ]
  },
  {
   "cell_type": "code",
   "execution_count": null,
   "metadata": {},
   "outputs": [],
   "source": [
    "class mds_member:\n",
    "    pass"
   ]
  },
  {
   "cell_type": "code",
   "execution_count": null,
   "metadata": {},
   "outputs": [],
   "source": [
    "mds_1 = mds_member()\n",
    "type(mds_1)"
   ]
  },
  {
   "cell_type": "markdown",
   "metadata": {},
   "source": [
    "We can add an `__init__` method to our class which will be run every time we create a new instance, for example, to add data to the instance. Let's add an `__init__` method to our `mds_member` class. `self` refers to the instance of a class and should **always** be passed to class methods as the first argument."
   ]
  },
  {
   "cell_type": "code",
   "execution_count": null,
   "metadata": {},
   "outputs": [],
   "source": [
    "class mds_member:\n",
    "    \n",
    "    def __init__(self, first, last, gender):\n",
    "        # the below are called \"attributes\"\n",
    "        self.first = first\n",
    "        self.last = last\n",
    "        self.email = first.lower() + \".\" + last.lower() + \"@mds.com\"\n",
    "        self.gender = gender"
   ]
  },
  {
   "cell_type": "code",
   "execution_count": null,
   "metadata": {},
   "outputs": [],
   "source": [
    "mds_1 = mds_member('Varada', 'Kolhatkar','male')\n",
    "print(mds_1.first)\n",
    "print(mds_1.last)\n",
    "print(mds_1.email)\n",
    "print(mds_1.gender)"
   ]
  },
  {
   "cell_type": "markdown",
   "metadata": {},
   "source": [
    "To get the full name, we can use the function we defined earlier:"
   ]
  },
  {
   "cell_type": "code",
   "execution_count": null,
   "metadata": {},
   "outputs": [],
   "source": [
    "full_name(mds_1.first, mds_1.last)"
   ]
  },
  {
   "cell_type": "markdown",
   "metadata": {},
   "source": [
    "But a better way to do this is to integrate this function into our class as a `method`:"
   ]
  },
  {
   "cell_type": "code",
   "execution_count": null,
   "metadata": {},
   "outputs": [],
   "source": [
    "class mds_member:\n",
    "    \n",
    "    def __init__(self, first, last):\n",
    "        self.first = first\n",
    "        self.last = last\n",
    "        self.email = first.lower() + \".\" + last.lower() + \"@mds.com\"\n",
    "        \n",
    "    def full_name(self):\n",
    "        return f\"{self.first} {self.last}\""
   ]
  },
  {
   "cell_type": "code",
   "execution_count": null,
   "metadata": {},
   "outputs": [],
   "source": [
    "mds_11 = mds_member('Amir', 'Sadeghzadeh')\n",
    "print(mds_11.first)\n",
    "print(mds_11.last)\n",
    "print(mds_11.email)\n",
    "print(mds_11.full_name())\n",
    "print(mds_1.full_name())"
   ]
  },
  {
   "cell_type": "markdown",
   "metadata": {},
   "source": [
    "Notice that we need the parentheses above because we are calling a `method` (think of it as a function), not an `attribute`."
   ]
  },
  {
   "cell_type": "markdown",
   "metadata": {},
   "source": [
    "### Instance & Class Attributes\n",
    "\n",
    "Attributes like `mds_1.first` are sometimes called `instance attributes`. They are specific to the object we have created. But we can also set `class attributes` which are the same amongst all instances of a class, they are defined outside of the `__init__` method."
   ]
  },
  {
   "cell_type": "code",
   "execution_count": null,
   "metadata": {},
   "outputs": [],
   "source": [
    "class mds_member:\n",
    "    \n",
    "    role = \"MDS member\" # class attributes\n",
    "    campus = \"UBC\"\n",
    "    \n",
    "    def __init__(self, first, last):\n",
    "        self.first = first\n",
    "        self.last = last\n",
    "        self.email = first.lower() + \".\" + last.lower() + \"@mds.com\"\n",
    "        \n",
    "    def full_name(self):\n",
    "        return f\"{self.first} {self.last}\""
   ]
  },
  {
   "cell_type": "markdown",
   "metadata": {},
   "source": [
    "All instances of our class share the class attribute:"
   ]
  },
  {
   "cell_type": "code",
   "execution_count": null,
   "metadata": {},
   "outputs": [],
   "source": [
    "mds_1 = mds_member('Tom', 'Beuzen')\n",
    "mds_2 = mds_member('Joel', 'Ostblom')\n",
    "print(f\"{mds_1.first} is at campus {mds_1.campus}.\")\n",
    "print(f\"{mds_2.first} is at campus {mds_2.campus}.\")"
   ]
  },
  {
   "cell_type": "markdown",
   "metadata": {},
   "source": [
    "We can even change the class attribute after our instances have been created. This will affect all of our created instances:"
   ]
  },
  {
   "cell_type": "code",
   "execution_count": null,
   "metadata": {},
   "outputs": [],
   "source": [
    "mds_1 = mds_member('Tom', 'Beuzen')\n",
    "mds_2 = mds_member('Mike', 'Gelbart')\n",
    "\n",
    "print(f\"{mds_1.first} is at campus {mds_1.campus}.\")\n",
    "print(f\"{mds_2.first} is at campus {mds_2.campus}.\")\n",
    "\n",
    "\n",
    "mds_member.campus = 'UBC Okanagan'\n",
    "\n",
    "print(f\"{mds_1.first} is at campus {mds_1.campus}.\")\n",
    "print(f\"{mds_2.first} is at campus {mds_2.campus}.\")"
   ]
  },
  {
   "cell_type": "markdown",
   "metadata": {},
   "source": [
    "You can also change the class attribute for just a single instance. But this is typically not recommended because if you want differing attributes for instances, you should probably use `instance attributes`."
   ]
  },
  {
   "cell_type": "code",
   "execution_count": null,
   "metadata": {},
   "outputs": [],
   "source": [
    "class mds_member:\n",
    "    \n",
    "    role = \"MDS member\"\n",
    "    campus = \"UBC\"\n",
    "    \n",
    "    def __init__(self, first, last):\n",
    "        self.first = first\n",
    "        self.last = last\n",
    "        self.email = first.lower() + \".\" + last.lower() + \"@mds.com\"\n",
    "        \n",
    "    def full_name(self):\n",
    "        return f\"{self.first} {self.last}\""
   ]
  },
  {
   "cell_type": "code",
   "execution_count": null,
   "metadata": {},
   "outputs": [],
   "source": [
    "mds_1 = mds_member('Tom', 'Beuzen')\n",
    "mds_2 = mds_member('Mike', 'Gelbart')\n",
    "mds_1.campus = 'UBC Okanagan'\n",
    "\n",
    "print(f\"{mds_1.first} is at campus {mds_1.campus}.\")\n",
    "print(f\"{mds_2.first} is at campus {mds_2.campus}.\")"
   ]
  },
  {
   "cell_type": "markdown",
   "metadata": {},
   "source": [
    "### Methods, Class Methods & Static Methods\n",
    "\n",
    "The `methods` we've seen so far are sometimes calles \"regular\" `methods`, they act on an instance of the class (i.e., take `self` as an argument). We also have `class methods` that act on the actual class. `class methods` are often used as \"alternative constructors\". As an example, let's say that somebody commonly wants to use our class with comma-separated names like the following:"
   ]
  },
  {
   "cell_type": "code",
   "execution_count": null,
   "metadata": {},
   "outputs": [],
   "source": [
    "name = 'Tom,Beuzen'"
   ]
  },
  {
   "cell_type": "markdown",
   "metadata": {},
   "source": [
    "Unfortunately, those users can't do this:"
   ]
  },
  {
   "cell_type": "code",
   "execution_count": null,
   "metadata": {
    "tags": [
     "raises-exception"
    ]
   },
   "outputs": [],
   "source": [
    "mds_member(name)"
   ]
  },
  {
   "cell_type": "markdown",
   "metadata": {},
   "source": [
    "To use our class, they would need to parse this string into `first` and `last`:"
   ]
  },
  {
   "cell_type": "code",
   "execution_count": null,
   "metadata": {},
   "outputs": [],
   "source": [
    "first, last = name.split(',')\n",
    "print(first)\n",
    "print(last)"
   ]
  },
  {
   "cell_type": "markdown",
   "metadata": {},
   "source": [
    "Then they could make an instance of our class:"
   ]
  },
  {
   "cell_type": "code",
   "execution_count": null,
   "metadata": {},
   "outputs": [],
   "source": [
    "mds_1 = mds_member(first, last)"
   ]
  },
  {
   "cell_type": "markdown",
   "metadata": {},
   "source": [
    "If this is a common use case for the users of our code, we don't want them to have to coerce the data every time before using our class. Instead, we can facilitate their use-case with a `class method`. There are two things we need to do to use a `class method`:\n",
    "1. Identify our method as `class method` using the decorator `@classmethod` (more on decorators in a bit);\n",
    "2. Pass `cls` instead of `self` as the first argument."
   ]
  },
  {
   "cell_type": "code",
   "execution_count": null,
   "metadata": {},
   "outputs": [],
   "source": [
    "class mds_member:\n",
    "\n",
    "    role = \"MDS member\"\n",
    "    campus = \"UBC\"\n",
    "    \n",
    "    def __init__(self, first, last):\n",
    "        self.first = first\n",
    "        self.last = last\n",
    "        self.email = first.lower() + \".\" + last.lower() + \"@mds.com\"\n",
    "        \n",
    "    def full_name(self):\n",
    "        return f\"{self.first} {self.last}\"\n",
    "    \n",
    "    @classmethod\n",
    "    def from_csv(cls, csv_name):\n",
    "        first, last = csv_name.split(',')\n",
    "        return cls(first, last)"
   ]
  },
  {
   "cell_type": "markdown",
   "metadata": {},
   "source": [
    "Now we can use our comma-separated values directly!"
   ]
  },
  {
   "cell_type": "code",
   "execution_count": null,
   "metadata": {},
   "outputs": [],
   "source": [
    "mds_1 = mds_member.from_csv('Tom,Beuzen')\n",
    "mds_1.full_name()"
   ]
  },
  {
   "cell_type": "markdown",
   "metadata": {},
   "source": [
    "There is a third kind of method called a `static method`. `static methods` do not operate on either the instance or the class, they are just simple functions. But we might want to include them in our class because they are somehow related to our class. They are defined using the `@staticmethod` decorator:"
   ]
  },
  {
   "cell_type": "code",
   "execution_count": null,
   "metadata": {},
   "outputs": [],
   "source": [
    "class mds_member:\n",
    "    \n",
    "    role = \"MDS member\"\n",
    "    campus = \"UBC\"\n",
    "    \n",
    "    def __init__(self, first, last):\n",
    "        self.first = first\n",
    "        self.last = last\n",
    "        self.email = first.lower() + \".\" + last.lower() + \"@mds.com\"\n",
    "        \n",
    "    def full_name(self):\n",
    "        return f\"{self.first} {self.last}\"\n",
    "    \n",
    "    @classmethod\n",
    "    def from_csv(cls, csv_name):\n",
    "        first, last = csv_name.split(',')\n",
    "        return cls(first, last)\n",
    "    \n",
    "    @staticmethod\n",
    "    def is_quizweek(week):\n",
    "        return True if week in [3, 5] else False"
   ]
  },
  {
   "cell_type": "markdown",
   "metadata": {},
   "source": [
    "Note that the method `is_quizweek()` does not accept or use the `self` argument. But it is still MDS-related, so we might want to include it here."
   ]
  },
  {
   "cell_type": "code",
   "execution_count": null,
   "metadata": {},
   "outputs": [],
   "source": [
    "mds_1 = mds_member.from_csv('Tom,Beuzen')\n",
    "print(f\"Is week 1 a quiz week? {mds_1.is_quizweek(1)}\")\n",
    "print(f\"Is week 3 a quiz week? {mds_member.is_quizweek(3)}\")"
   ]
  },
  {
   "cell_type": "code",
   "execution_count": null,
   "metadata": {},
   "outputs": [],
   "source": [
    "mds_member.is_quizweek(2)"
   ]
  },
  {
   "cell_type": "code",
   "execution_count": null,
   "metadata": {},
   "outputs": [],
   "source": [
    "help(mds_member)"
   ]
  },
  {
   "cell_type": "markdown",
   "metadata": {},
   "source": [
    "### Inheritance & Subclasses\n",
    "\n",
    "Just like it sounds, inheritance allows us to \"inherit\" methods and attributes from another class. So far, we've been working with an `mds_member` class. But let's get more specific and create a `mds_student` and `mds_instructor` class. Recall this was `mds_member`:"
   ]
  },
  {
   "cell_type": "code",
   "execution_count": null,
   "metadata": {},
   "outputs": [],
   "source": [
    "class mds_member:\n",
    "    \n",
    "    role = \"MDS member\"\n",
    "    campus = \"UBC\"\n",
    "    \n",
    "    def __init__(self, first, last):\n",
    "        self.first = first\n",
    "        self.last = last\n",
    "        self.email = first.lower() + \".\" + last.lower() + \"@mds.com\"\n",
    "        \n",
    "    def full_name(self):\n",
    "        return f\"{self.first} {self.last}\"\n",
    "    \n",
    "    @classmethod\n",
    "    def from_csv(cls, csv):\n",
    "        first, last = csv_name.split(',')\n",
    "        return cls(first, last)\n",
    "    \n",
    "    @staticmethod\n",
    "    def is_quizweek(week):\n",
    "        return True if week in [3, 5] else False"
   ]
  },
  {
   "cell_type": "markdown",
   "metadata": {},
   "source": [
    "We can create an `mds_student` class that inherits all of the attributes and methods from our `mds_member` class by  by simply passing the `mds_member` class as an argument to an `mds_student` class definition:"
   ]
  },
  {
   "cell_type": "code",
   "execution_count": null,
   "metadata": {},
   "outputs": [],
   "source": [
    "class mds_student(mds_member):\n",
    "    pass"
   ]
  },
  {
   "cell_type": "code",
   "execution_count": null,
   "metadata": {},
   "outputs": [],
   "source": [
    "student_1 = mds_student('Craig', 'Smith')\n",
    "student_2 = mds_student('Megan', 'Scott')\n",
    "print(student_1.full_name())\n",
    "print(student_2.full_name())"
   ]
  },
  {
   "cell_type": "markdown",
   "metadata": {},
   "source": [
    "What happened here is that our `mds_student` instance first looked in the `mds_student` class for an `__init__` method, which it didn't find. It then looked for the `__init__` method in the inherited `mds_member` class and found something to use! This order is called the \"[method resolution order](https://www.python.org/download/releases/2.3/mro/)\". We can inspect it directly using the `help()` function:"
   ]
  },
  {
   "cell_type": "code",
   "execution_count": null,
   "metadata": {},
   "outputs": [],
   "source": [
    "help(mds_student)"
   ]
  },
  {
   "cell_type": "markdown",
   "metadata": {},
   "source": [
    "Okay, let's fine-tune our `mds_student` class. The first thing we might want to do is change the role of the student instances to \"MDS Student\". We can do that by simply adding a `class attribute` to our `mds_student` class. Any attributes or methods not \"over-ridden\" in the `mds_student` class will just be inherited from the `mds_member` class."
   ]
  },
  {
   "cell_type": "code",
   "execution_count": null,
   "metadata": {},
   "outputs": [],
   "source": [
    "class mds_student(mds_member):\n",
    "    role = \"MDS student\""
   ]
  },
  {
   "cell_type": "code",
   "execution_count": null,
   "metadata": {},
   "outputs": [],
   "source": [
    "student_1 = mds_student('John', 'Smith')\n",
    "print(student_1.role)\n",
    "print(student_1.campus)\n",
    "print(student_1.full_name())"
   ]
  },
  {
   "cell_type": "markdown",
   "metadata": {},
   "source": [
    "Now let's add an `instance attribute` to our class called `grade`. You might be tempted to do something like this:"
   ]
  },
  {
   "cell_type": "code",
   "execution_count": null,
   "metadata": {},
   "outputs": [],
   "source": [
    "class mds_student(mds_member):\n",
    "    role = \"MDS student\"\n",
    "    \n",
    "    def __init__(self, first, last, grade):\n",
    "        self.first = first\n",
    "        self.last = last\n",
    "        self.email = first.lower() + \".\" + last.lower() + \"@mds.com\"\n",
    "        self.grade = grade\n",
    "        \n",
    "student_1 = mds_student('John', 'Smith', 'B+')\n",
    "print(student_1.email)\n",
    "print(student_1.grade)"
   ]
  },
  {
   "cell_type": "markdown",
   "metadata": {},
   "source": [
    "But this is not DRY code, remember that we've already typed most of this in our `mds_member` class. So what we can do is let the `mds_member` class handle our `first` and `last` argument and we'll just worry about `grade`. We can do this easily with the `super()` function. Things can get pretty complicated with `super()`, you can read more [here](https://realpython.com/python-super/#an-overview-of-pythons-super-function), but all you really need to know is that `super()` allows you to inherit attributes/methods from other classes."
   ]
  },
  {
   "cell_type": "code",
   "execution_count": null,
   "metadata": {},
   "outputs": [],
   "source": [
    "class mds_student(mds_member):\n",
    "    role = \"MDS student\"\n",
    "    \n",
    "    def __init__(self, first, last, grade):\n",
    "        super().__init__(first, last)\n",
    "        self.grade = grade\n",
    "        \n",
    "student_1 = mds_student('John', 'Smith', 'B+')\n",
    "print(student_1.email)\n",
    "print(student_1.grade)"
   ]
  },
  {
   "cell_type": "markdown",
   "metadata": {},
   "source": [
    "Amazing! Hopefully you can start to see how powerful inheritance can be. Let's create another subclass called `mds_instructor`, which has two new methods `add_course()` and `remove_course()`."
   ]
  },
  {
   "cell_type": "code",
   "execution_count": null,
   "metadata": {},
   "outputs": [],
   "source": [
    "class mds_instructor(mds_member):\n",
    "    role = \"MDS instructor\"\n",
    "    \n",
    "    def __init__(self, first, last, courses=None):\n",
    "        super().__init__(first, last)\n",
    "        self.courses = ([] if courses is None else courses)\n",
    "        \n",
    "    def add_course(self, course):\n",
    "        self.courses.append(course)\n",
    "        \n",
    "    def remove_course(self, course):\n",
    "        self.courses.remove(course)"
   ]
  },
  {
   "cell_type": "code",
   "execution_count": null,
   "metadata": {},
   "outputs": [],
   "source": [
    "instructor_1 = mds_instructor('Tom', 'Beuzen', ['511', '561', '513'])\n",
    "print(instructor_1.full_name())\n",
    "print(instructor_1.courses)"
   ]
  },
  {
   "cell_type": "code",
   "execution_count": null,
   "metadata": {},
   "outputs": [],
   "source": [
    "instructor_1.add_course('591')\n",
    "instructor_1.remove_course('513')\n",
    "instructor_1.courses"
   ]
  },
  {
   "cell_type": "markdown",
   "metadata": {},
   "source": [
    "Congrats for making it to the end, that was a lot of content and some tough topics to get through, so well done!!"
   ]
  }
 ],
 "metadata": {
  "anaconda-cloud": {},
  "kernelspec": {
   "display_name": "Python 3 (ipykernel)",
   "language": "python",
   "name": "python3"
  },
  "language_info": {
   "codemirror_mode": {
    "name": "ipython",
    "version": 3
   },
   "file_extension": ".py",
   "mimetype": "text/x-python",
   "name": "python",
   "nbconvert_exporter": "python",
   "pygments_lexer": "ipython3",
   "version": "3.10.9"
  },
  "toc": {
   "base_numbering": 1,
   "nav_menu": {},
   "number_sections": false,
   "sideBar": true,
   "skip_h1_title": true,
   "title_cell": "Table of Contents",
   "title_sidebar": "Contents",
   "toc_cell": true,
   "toc_position": {},
   "toc_section_display": true,
   "toc_window_display": true
  }
 },
 "nbformat": 4,
 "nbformat_minor": 4
}
