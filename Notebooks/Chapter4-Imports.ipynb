{
 "cells": [
  {
   "cell_type": "markdown",
   "metadata": {},
   "source": [
    "![](../docs/banner.png)"
   ]
  },
  {
   "cell_type": "markdown",
   "metadata": {},
   "source": [
    "# Chapter 4: Imports"
   ]
  },
  {
   "cell_type": "markdown",
   "metadata": {},
   "source": [
    "## 3. Importing\n",
    "<hr>"
   ]
  },
  {
   "cell_type": "markdown",
   "metadata": {},
   "source": [
    "Python can access code in another module by importing it. This is done using the `import` statement, which you've probably seen a few times already. We'll discuss importing more in DSCI 524 and you can read all about it in the [Python documentation](https://docs.python.org/3/reference/import.html) but for now, it's easiest to see it in action."
   ]
  },
  {
   "cell_type": "markdown",
   "metadata": {},
   "source": [
    "### Ways of Importing Things\n",
    "\n",
    "I've written a `.py` file called `wallet.py` that contains a class `Wallet` that can be used to store, spend, and earn cash. I recommend taking a look at that file on GitHub before moving on.\n",
    "\n",
    "Let's `import` the code from `wallet.py` . We can import our `.py` file (our module) simply by:"
   ]
  },
  {
   "cell_type": "code",
   "execution_count": null,
   "metadata": {},
   "outputs": [],
   "source": [
    "import wallet"
   ]
  },
  {
   "cell_type": "markdown",
   "metadata": {},
   "source": [
    "We can take a look at all the useable parts of that module by typing `dir(wallet)`:"
   ]
  },
  {
   "cell_type": "code",
   "execution_count": null,
   "metadata": {},
   "outputs": [],
   "source": [
    "dir(wallet)"
   ]
  },
  {
   "cell_type": "markdown",
   "metadata": {},
   "source": [
    "We can import a package using an alias with the `as` keyword:"
   ]
  },
  {
   "cell_type": "code",
   "execution_count": null,
   "metadata": {},
   "outputs": [],
   "source": [
    "import wallet as w"
   ]
  },
  {
   "cell_type": "code",
   "execution_count": null,
   "metadata": {},
   "outputs": [],
   "source": [
    "w.Wallet(100)"
   ]
  },
  {
   "cell_type": "code",
   "execution_count": null,
   "metadata": {},
   "outputs": [],
   "source": [
    "w.InsufficientCashError()"
   ]
  },
  {
   "cell_type": "code",
   "execution_count": null,
   "metadata": {},
   "outputs": [],
   "source": [
    "w.my_print(\"Hello World!\")"
   ]
  },
  {
   "cell_type": "markdown",
   "metadata": {},
   "source": [
    "And we can import just a specific function/class/variable from our module:"
   ]
  },
  {
   "cell_type": "code",
   "execution_count": null,
   "metadata": {},
   "outputs": [],
   "source": [
    "from wallet import Wallet"
   ]
  },
  {
   "cell_type": "code",
   "execution_count": null,
   "metadata": {},
   "outputs": [],
   "source": [
    "Wallet(100) # now I can refer to it without the module name prefix"
   ]
  },
  {
   "cell_type": "markdown",
   "metadata": {},
   "source": [
    "You can even mix up all these methods:"
   ]
  },
  {
   "cell_type": "code",
   "execution_count": null,
   "metadata": {},
   "outputs": [],
   "source": [
    "from wallet import Wallet as w"
   ]
  },
  {
   "cell_type": "code",
   "execution_count": null,
   "metadata": {},
   "outputs": [],
   "source": [
    "w(100)"
   ]
  },
  {
   "cell_type": "markdown",
   "metadata": {},
   "source": [
    "It's also possible to import everything in a module, though this is generally not recommended:"
   ]
  },
  {
   "cell_type": "code",
   "execution_count": null,
   "metadata": {},
   "outputs": [],
   "source": [
    "from wallet import *"
   ]
  },
  {
   "cell_type": "code",
   "execution_count": null,
   "metadata": {},
   "outputs": [],
   "source": [
    "Wallet(100)"
   ]
  },
  {
   "cell_type": "code",
   "execution_count": null,
   "metadata": {},
   "outputs": [],
   "source": [
    "InsufficientCashError()"
   ]
  },
  {
   "cell_type": "code",
   "execution_count": null,
   "metadata": {},
   "outputs": [],
   "source": [
    "my_print(\"Amir\")"
   ]
  },
  {
   "cell_type": "markdown",
   "metadata": {},
   "source": [
    "#### Importing Functions from Outside your Working Directory"
   ]
  },
  {
   "cell_type": "code",
   "execution_count": null,
   "metadata": {},
   "outputs": [],
   "source": []
  },
  {
   "cell_type": "markdown",
   "metadata": {},
   "source": [
    "I could do `import wallet` above because `wallet.py` is in my current working directory. But there are a few extra steps needed if it is in a different location. I've included a script called `hello.py` in a `data/` sub-directory of the directory housing this notebook. All it has in it is:\n",
    "\n",
    "```python\n",
    "PLANET = \"Earth\"\n",
    "\n",
    "\n",
    "def hello_world():\n",
    "    print(f\"Hello {PLANET}!\")\n",
    "```\n",
    "\n",
    "Unfortunately I can't do this:"
   ]
  },
  {
   "cell_type": "code",
   "execution_count": null,
   "metadata": {
    "tags": [
     "raises-exception"
    ]
   },
   "outputs": [],
   "source": [
    "from hello import hello_world"
   ]
  },
  {
   "cell_type": "markdown",
   "metadata": {},
   "source": [
    "What I need to do is add this directory location to the paths that Python searches through when looking to import something. I usually do this using the `sys` module:"
   ]
  },
  {
   "cell_type": "code",
   "execution_count": null,
   "metadata": {},
   "outputs": [],
   "source": [
    "import sys\n",
    "sys.path.append('data/')\n",
    "sys.path # display the current paths Python is looking through"
   ]
  },
  {
   "cell_type": "markdown",
   "metadata": {},
   "source": [
    "See that `data/` is now a valid path. So now I can import from `hello.py`:"
   ]
  },
  {
   "cell_type": "code",
   "execution_count": null,
   "metadata": {},
   "outputs": [],
   "source": [
    "from hello import hello_world, PLANET"
   ]
  },
  {
   "cell_type": "code",
   "execution_count": null,
   "metadata": {},
   "outputs": [],
   "source": [
    "PLANET  # note that I can import variable defined in a .py file!"
   ]
  },
  {
   "cell_type": "code",
   "execution_count": null,
   "metadata": {},
   "outputs": [],
   "source": [
    "hello_world()"
   ]
  },
  {
   "cell_type": "markdown",
   "metadata": {},
   "source": [
    "### Packages"
   ]
  },
  {
   "cell_type": "markdown",
   "metadata": {},
   "source": [
    "As your code gets more complex, grows in modules, and you wish to share it, you'll want to turn it into a Python package. Packages are logical collections of modules that can be easily imported. If you're interested in creating your own packages, take a look at the [py-pkgs book](https://ubc-mds.github.io/py-pkgs/). For now, we'll be using other people's popular data science packages, specifically, next chapter we'll look at `numpy`: \"the fundamental package for scientific computing with Python\"."
   ]
  },
  {
   "cell_type": "markdown",
   "metadata": {},
   "source": [
    "#### Importing Installed Packages"
   ]
  },
  {
   "cell_type": "markdown",
   "metadata": {},
   "source": [
    "In the next few chapters we'll be using the `numpy` and `pandas` packages, which are probably the most popular for data science. When you install those packages, they are put in a location on your computer that Python already knows about, so we can simply import them at will."
   ]
  },
  {
   "cell_type": "code",
   "execution_count": null,
   "metadata": {},
   "outputs": [],
   "source": [
    "import numpy as np"
   ]
  },
  {
   "cell_type": "code",
   "execution_count": null,
   "metadata": {},
   "outputs": [],
   "source": [
    "np.array([1, 2, 3])"
   ]
  },
  {
   "cell_type": "code",
   "execution_count": null,
   "metadata": {},
   "outputs": [],
   "source": [
    "np.random.randint(0, 10, 3)"
   ]
  },
  {
   "cell_type": "markdown",
   "metadata": {},
   "source": [
    "## 4. Intriguing Behaviour in Python\n",
    "<hr>"
   ]
  },
  {
   "cell_type": "markdown",
   "metadata": {},
   "source": [
    "### References"
   ]
  },
  {
   "cell_type": "markdown",
   "metadata": {},
   "source": [
    "What do you think the code below will print?"
   ]
  },
  {
   "cell_type": "code",
   "execution_count": null,
   "metadata": {
    "jupyter": {
     "outputs_hidden": false
    }
   },
   "outputs": [],
   "source": [
    "x = 1\n",
    "y = x\n",
    "\n",
    "print(f\"x has the value: {x}, id: {id(x)}\")\n",
    "print(f\"y has the value: {y}, id: {id(y)}\")\n",
    "print(\"\\n\")\n",
    "\n",
    "x = 2\n",
    "\n",
    "print(f\"x has the value: {x}, id: {id(x)}\")\n",
    "print(f\"y has the value: {y}, id: {id(y)}\")"
   ]
  },
  {
   "cell_type": "markdown",
   "metadata": {},
   "source": [
    "And how about the next one?"
   ]
  },
  {
   "cell_type": "code",
   "execution_count": null,
   "metadata": {},
   "outputs": [],
   "source": [
    "x = [1]\n",
    "y = x\n",
    "\n",
    "print(f\"x has the value: {x}, id: {id(x)}\")\n",
    "print(f\"y has the value: {y}, id: {id(y)}\")\n",
    "print(\"\\n\")\n",
    "\n",
    "x[0] = 2\n",
    "\n",
    "print(f\"x has the value: {x}, id: {id(x)}\")\n",
    "print(f\"y has the value: {y}, id: {id(y)}\")"
   ]
  },
  {
   "cell_type": "markdown",
   "metadata": {},
   "source": [
    "In Python, the list `x` is a **reference** to an object in the computer's memory. When you set `y = x` these two variables now refer to the same object in memory - the one that `x` referred to. Setting `x[0] = 2` modifies the object in memory. So `x` and `y` are both modified (it makes no different if you set `x[0] = 2` or `y[0] = 2`, both modify the same memory).\n",
    " \n",
    "Here's an analogy that might help understand what's going on:\n",
    "- I share a Dropbox folder (or git repo) with you, and you modify it -- I sent you _the location of the stuff_ (this is like the list case)\n",
    "- I send you an email with a file attached, you download it and modify the file -- I sent you _the stuff itself_ (this is like the integer case)\n",
    "\n",
    "Okay, what do you think will happen here:"
   ]
  },
  {
   "cell_type": "code",
   "execution_count": null,
   "metadata": {},
   "outputs": [],
   "source": [
    "x = [1]\n",
    "y = x\n",
    "print(f\"x has the value: {x}, id: {id(x)}\")\n",
    "print(f\"y has the value: {y}, id: {id(y)}\")\n",
    "print(\"\\n\")\n",
    "\n",
    "x = [2] # before we had x[0] = 2\n",
    "\n",
    "print(\"After modifying x:\")\n",
    "print(f\"x has the value: {x}, id: {id(x)}\")\n",
    "print(f\"y has the value: {y}, id: {id(y)}\")"
   ]
  },
  {
   "cell_type": "markdown",
   "metadata": {},
   "source": [
    "Here we are not modifying the contents of `x`, we are setting `x` to refer to a new list `[2]`."
   ]
  },
  {
   "cell_type": "markdown",
   "metadata": {},
   "source": [
    "### Additional Weirdness"
   ]
  },
  {
   "cell_type": "markdown",
   "metadata": {},
   "source": [
    "We can use `id()` to return the unique id of an object in memory."
   ]
  },
  {
   "cell_type": "code",
   "execution_count": null,
   "metadata": {},
   "outputs": [],
   "source": [
    "import numpy as np\n",
    "x = np.array([1, 2, 3, 4, 5])  # this is a numpy array which we'll learn more about next chapter\n",
    "y = x\n",
    "print(f\"x has the value: {x}, id: {id(x)}\")\n",
    "print(f\"y has the value: {y}, id: {id(y)}\")\n",
    "\n",
    "x = x + 5\n",
    "\n",
    "print(\"After modifying x:\")\n",
    "print(f\"x has the value: {x}, id: {id(x)}\")\n",
    "print(f\"y has the value: {y}, id: {id(y)}\")"
   ]
  },
  {
   "cell_type": "code",
   "execution_count": null,
   "metadata": {},
   "outputs": [],
   "source": [
    "x = np.array([1, 2, 3, 4, 5])\n",
    "y = x\n",
    "print(f\"x has the value: {x}, id: {id(x)}\")\n",
    "print(f\"y has the value: {y}, id: {id(y)}\")\n",
    "print(\"\\n\")\n",
    "\n",
    "x += 5\n",
    "\n",
    "print(\"After modifying x:\")\n",
    "print(f\"x has the value: {x}, id: {id(x)}\")\n",
    "print(f\"y has the value: {y}, id: {id(y)}\")"
   ]
  },
  {
   "cell_type": "markdown",
   "metadata": {},
   "source": [
    "So, it turns out `x += 5` is not identical `x = x + 5`. The former modifies the contents of `x`. The latter first evaluates `x + 5` to a new array of the same size, and then overwrites the name `x` with a reference to this new array.\n",
    "\n",
    "But there's good news - we don't need to memorize special rules for calling functions. Copying happens with `int`, `float`, `bool`, (maybe some other ones I'm forgetting?), the rest is \"by reference\". Now you see why we care if objects are mutable or immutable... passing around a reference can be dangerous! General rule - if you do `x = ...` then you're not modifying the original, but if you do `x.SOMETHING = y` or `x[SOMETHING] = y` or `x *= y` then you probably are."
   ]
  },
  {
   "cell_type": "markdown",
   "metadata": {},
   "source": [
    "### `copy` and `deepcopy`"
   ]
  },
  {
   "cell_type": "markdown",
   "metadata": {},
   "source": [
    "We can force the certain copying behaviour using the `copy` library if we want to:"
   ]
  },
  {
   "cell_type": "code",
   "execution_count": null,
   "metadata": {},
   "outputs": [],
   "source": [
    "import copy  # part of the standard library"
   ]
  },
  {
   "cell_type": "code",
   "execution_count": null,
   "metadata": {
    "jupyter": {
     "outputs_hidden": false
    }
   },
   "outputs": [],
   "source": [
    "x = [1]\n",
    "y = x\n",
    "print(f\"x has the value: {x}, id: {id(x)}\")\n",
    "print(f\"y has the value: {y}, id: {id(y)}\")\n",
    "print(\"\\n\")\n",
    "\n",
    "x[0] = 2\n",
    "print(\"After modifying x:\")\n",
    "print(f\"x has the value: {x}, id: {id(x)}\")\n",
    "print(f\"y has the value: {y}, id: {id(y)}\")\n",
    "\n"
   ]
  },
  {
   "cell_type": "code",
   "execution_count": null,
   "metadata": {},
   "outputs": [],
   "source": [
    "x = [1]\n",
    "y = copy.copy(x)  # We \"copied\" x and saved that new object as y\n",
    "print(f\"x has the value: {x}, id: {id(x)}\")\n",
    "print(f\"y has the value: {y}, id: {id(y)}\")\n",
    "print(\"\\n\")\n",
    "\n",
    "x[0] = 2\n",
    "\n",
    "print(\"After modifying x:\")\n",
    "print(f\"x has the value: {x}, id: {id(x)}\")\n",
    "print(f\"y has the value: {y}, id: {id(y)}\")\n"
   ]
  },
  {
   "cell_type": "markdown",
   "metadata": {},
   "source": [
    "Ok, so what do you think will happen here?"
   ]
  },
  {
   "cell_type": "code",
   "execution_count": null,
   "metadata": {
    "jupyter": {
     "outputs_hidden": false
    }
   },
   "outputs": [],
   "source": [
    "x = [[1], [2, 99], [3, \"hi\"]]  # a list of lists\n",
    "\n",
    "y = copy.copy(x)\n",
    "print(\"After copy.copy():\")\n",
    "print(f\"x has the value: {x}, id: {id(x)}\")\n",
    "print(f\"y has the value: {y}, id: {id(y)}\")\n",
    "print(\"\\n\")\n",
    "\n",
    "\n",
    "x[0][0] = \"pikachu\"\n",
    "print(\"\")\n",
    "print(\"After modifying x:\")\n",
    "print(f\"x has the value: {x}, id: {id(x)}\")\n",
    "print(f\"y has the value: {y}, id: {id(y)}\")\n"
   ]
  },
  {
   "attachments": {
    "image.png": {
     "image/png": "[encoded data removed]"
    }
   },
   "cell_type": "markdown",
   "metadata": {},
   "source": [
    "But wait.. we used `copy`, why are `x` and `y` both changed in the latter example? `copy` makes the _containers_ different, i.e., only the outer list. But the outer lists contain references to objects which were not copied! This is what happens after `y = copy.copy(x)`:\n",
    "\n",
    "![image.png](attachment:image.png)"
   ]
  },
  {
   "cell_type": "markdown",
   "metadata": {},
   "source": [
    "We can use `is` to tell apart these scenarios (as opposed to `==`). `is` tells us if two objects are referring to the same object in memory, while `==` tells us if their contents are the same:"
   ]
  },
  {
   "cell_type": "code",
   "execution_count": null,
   "metadata": {},
   "outputs": [],
   "source": [
    "x == y # they are both lists containing the same lists"
   ]
  },
  {
   "cell_type": "code",
   "execution_count": null,
   "metadata": {},
   "outputs": [],
   "source": [
    "x is y # but they are not the *same* lists of lists"
   ]
  },
  {
   "cell_type": "markdown",
   "metadata": {},
   "source": [
    "So, by that logic we should be able to append to `y` without affecting `x`:"
   ]
  },
  {
   "cell_type": "code",
   "execution_count": null,
   "metadata": {},
   "outputs": [],
   "source": [
    "y.append(5)\n",
    "\n",
    "print(x)\n",
    "print(y)"
   ]
  },
  {
   "cell_type": "code",
   "execution_count": null,
   "metadata": {},
   "outputs": [],
   "source": [
    "x is y"
   ]
  },
  {
   "attachments": {
    "image.png": {
     "image/png": "[encoded data removed]"
    }
   },
   "cell_type": "markdown",
   "metadata": {},
   "source": [
    "That makes sense, as weird as it seems:\n",
    "\n",
    "![image.png](attachment:image.png)\n"
   ]
  },
  {
   "attachments": {
    "image.png": {
     "image/png": "[encoded data removed]"
    }
   },
   "cell_type": "markdown",
   "metadata": {},
   "source": [
    "In short, `copy` only copies one level down. What if we want to copy everything? i.e., even the inner lists in our outer list... Enter our friend `deepcopy`:\n",
    "\n",
    "![image.png](attachment:image.png)"
   ]
  },
  {
   "cell_type": "code",
   "execution_count": null,
   "metadata": {
    "jupyter": {
     "outputs_hidden": false
    }
   },
   "outputs": [],
   "source": [
    "x = [[1], [2, 99], [3, \"hi\"]]\n",
    "\n",
    "y = copy.deepcopy(x)\n",
    "print(f\"x has the value: {x}, id: {id(x)}\")\n",
    "print(f\"y has the value: {y}, id: {id(y)}\")\n",
    "\n",
    "x[0][0] = \"pikachu\"\n",
    "print(\"After modifying x:\")\n",
    "print(f\"x has the value: {x}, id: {id(x)}\")\n",
    "print(f\"y has the value: {y}, id: {id(y)}\")"
   ]
  },
  {
   "cell_type": "markdown",
   "metadata": {},
   "source": [
    "![](img/chapter4/deep-copy.png)"
   ]
  },
  {
   "cell_type": "markdown",
   "metadata": {},
   "source": [
    "```{tip}\n",
    "If you're interested, you can find a whole compilation of more intriguing behaviour in Python [here](https://github.com/satwikkansal/wtfpython/blob/master/README.md)!\n",
    "```"
   ]
  }
 ],
 "metadata": {
  "kernelspec": {
   "display_name": "Python 3 (ipykernel)",
   "language": "python",
   "name": "python3"
  },
  "language_info": {
   "codemirror_mode": {
    "name": "ipython",
    "version": 3
   },
   "file_extension": ".py",
   "mimetype": "text/x-python",
   "name": "python",
   "nbconvert_exporter": "python",
   "pygments_lexer": "ipython3",
   "version": "3.10.9"
  },
  "toc": {
   "base_numbering": 1,
   "nav_menu": {},
   "number_sections": false,
   "sideBar": true,
   "skip_h1_title": true,
   "title_cell": "Lecture Outline",
   "title_sidebar": "Contents",
   "toc_cell": true,
   "toc_position": {},
   "toc_section_display": true,
   "toc_window_display": true
  }
 },
 "nbformat": 4,
 "nbformat_minor": 4
}
