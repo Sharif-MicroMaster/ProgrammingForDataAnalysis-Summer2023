{
 "cells": [
  {
   "cell_type": "markdown",
   "id": "9f7fb9e1",
   "metadata": {},
   "source": [
    "<p></p>\n",
    "<br />\n",
    "<div id=\"sec_intro\" style=\"direction:rtl;line-height:300%;\">\n",
    "\t<font face=\"B Nazanin\" size=5>\n",
    "\t\t<font color=#FF7500 size=6>\n",
    "برنامه سازی برای تحلیل داده - تابستان 1402\n",
    "        </font>\n",
    "\t\t<p></p>\n",
    "        <h1 style=\"text-align: center\">\n",
    "        تمرین چهارم - سوال اول\n",
    "        </h1>\n",
    "\t\t<h2 style=\"text-align: center\">\n",
    "        میکرومستر دانشکده کامپیوتر\n",
    "\t\t<br>\n",
    "\t\tدانشگاه صنعتی شریف\n",
    "\t\t<br>\n",
    "\t\t</h3>\n",
    "            \n",
    "  "
   ]
  },
  {
   "cell_type": "markdown",
   "id": "d047a94d-5b46-4bde-8686-810253eab2f3",
   "metadata": {},
   "source": [
    "\n",
    "<p></p>\n",
    "<br />\n",
    "<div id=\"sec_intro\" style=\"direction:rtl;line-height:300%;\">\n",
    "\t<font face=\"B Nazanin\" size=5>\n",
    "\t\t<font color=#FF7500 size=6>\n",
    "بخش اول\n",
    "        </font>\n",
    "\t\t<p></p>\n",
    "\t\t<hr>\n",
    "       در این بخش میخواهیم با پانداس و دیتافریم‌های آن آشنا شویم.\n",
    "\t   <br>\n",
    "\t   دیتافریم های پانداس را می‌توان با استفاده از ورودی‌های مختلف ایجاد کرد:\n",
    "        <br>\n",
    "\t\t\n",
    "* Lists\n",
    "* dicts\n",
    "* Series\n",
    "* Numpy ndarrays\n",
    "\t\t\n",
    "\t<br>\n",
    "\tدر ابتدا کتابخانه‌های موردنیاز را ادد می‌کنیم.\n",
    "\t\t<br>\n",
    "\t</font>\n",
    "</div>"
   ]
  },
  {
   "cell_type": "code",
   "execution_count": 3,
   "id": "a1db75c2-ae34-45eb-8414-c13bba0f1ee0",
   "metadata": {},
   "outputs": [],
   "source": [
    "# import necessary libraries\n",
    "import pandas as pd\n",
    "import numpy as np"
   ]
  },
  {
   "cell_type": "markdown",
   "id": "1a20b82d",
   "metadata": {},
   "source": [
    "\n",
    "<p></p>\n",
    "<br />\n",
    "<div id=\"sec_intro\" style=\"direction:rtl;line-height:300%;\">\n",
    "\t<font face=\"B Nazanin\" size=5>\n",
    "\t\t<font color=#FF7500 size=6>\n",
    "قسمت اول - ساخت دیتافریم با لیست\n",
    "        </font>\n",
    "\t\t<p></p>\n",
    "\t\t<hr>\n",
    "       سوال اول- لیستی از اعداد \n",
    "\t   <br>\n",
    "\t   در این قسمت شما باید:\n",
    "\t   1- لیستی از اعداد بسازید. 2- از لیست دیتافریم بسازید. 3- آن را پرینت کنید.\n",
    "        <br>\n",
    "\t</font>\n",
    "</div>"
   ]
  },
  {
   "cell_type": "code",
   "execution_count": 8,
   "id": "b722065e-7a65-4f46-be55-06e68b339a0c",
   "metadata": {},
   "outputs": [],
   "source": [
    "# create an empty list\n",
    "data = []\n",
    "\n",
    "# TODO: add numbers to the data list\n",
    "# put your code here\n",
    "\n",
    "# TODO: create a dataframe from the data list, then print it\n",
    "# put your code here"
   ]
  },
  {
   "cell_type": "markdown",
   "id": "79f16216",
   "metadata": {},
   "source": [
    "\n",
    "<p></p>\n",
    "<br />\n",
    "<div id=\"sec_intro\" style=\"direction:rtl;line-height:300%;\">\n",
    "\t<font face=\"B Nazanin\" size=5>\n",
    "\t\t<font color=#FF7500 size=6>\n",
    "سوال دوم- لیستی از لیست ها\n",
    "        </font>\n",
    "\t\t<p></p>\n",
    "\t\t<hr>\n",
    "       در این تمرین شما باید\n",
    "\t   <br>\n",
    "\t   در این قسمت شما باید:\n",
    "\t   ۱- لیستی از اعداد و رشته ها بسازید. ۲- از لیست دیتافریم بسازید و برای هر ستون اسمی بگذارید. ۳- آن را پرینت کنید.\n",
    "        <br>\n",
    "\t</font>\n",
    "</div>"
   ]
  },
  {
   "cell_type": "code",
   "execution_count": 7,
   "id": "a98c79e1-56d3-4c6d-acdf-30d9867e8d64",
   "metadata": {},
   "outputs": [],
   "source": [
    "# create an empty list\n",
    "data = []\n",
    "\n",
    "# TODO: add List of lists to data, forexample: data=[['test_1', 1],['test_2', 2]]\n",
    "# put your code here\n",
    "\n",
    "# TODO: create a dataframe from the data list, then print it\n",
    "# put your code here"
   ]
  },
  {
   "cell_type": "markdown",
   "id": "26204c1e",
   "metadata": {},
   "source": [
    "<p></p>\n",
    "<br />\n",
    "<div id=\"sec_intro\" style=\"direction:rtl;line-height:300%;\">\n",
    "\t<font face=\"B Nazanin\" size=5>\n",
    "\t\t<font color=#FF7500 size=6>\n",
    "قسمت دوم - ساخت دیتافریم با دیکشنری از آرایه ها و لیست ها\n",
    "        </font>\n",
    "\t\t<p></p>\n",
    "\t\t<hr>\n",
    "       سوال-۱- دیکشنری از لیست\n",
    "\t   <br>\n",
    "\t   در این تمرین شما باید:\n",
    "\t   ۱- دیکشنری از لیست ها بسازید. ۲- از لیست دیتافریم بسازید و برای هر نمونه اسمی بگذارید ۳- آن را پرینت کنید.\n",
    "        <br>\n",
    "\t</font>\n",
    "</div>"
   ]
  },
  {
   "cell_type": "code",
   "execution_count": 9,
   "id": "4abde381-69de-405a-9ba2-82892208f8c3",
   "metadata": {},
   "outputs": [],
   "source": [
    "# TODO: create a Dict of List, forexample: data ={'test':['num_1','num_2'], 'num':[1, 2]}\n",
    "# put your code here\n",
    "\n",
    "# TODO: create a dataframe from your created list, and set index for each sample\n",
    "# put your code here"
   ]
  },
  {
   "cell_type": "markdown",
   "id": "172e214b",
   "metadata": {},
   "source": [
    "<p></p>\n",
    "<br />\n",
    "<div id=\"sec_intro\" style=\"direction:rtl;line-height:300%;\">\n",
    "\t<font face=\"B Nazanin\" size=5>\n",
    "\t\t<font color=#FF7500 size=6>\n",
    "سوال-۲- لیستی از دیکشنری ها \n",
    "        </font>\n",
    "\t\t<p></p>\n",
    "\t\t<hr>\n",
    "       تصور کنید که ما ۴ تا ویژگی داریم. گاهی اوقات اگر مقداری برای یکی از این ویژگیها در نظر نگیریم، در این صورت خود کتابخانه پانداز برای آن ویژگی مقدار NaN را در نظر میگیرد \n",
    "\t   <br>\n",
    "\t   در این تمرین شما باید:\n",
    "\t   ۱- لیستی از دیکشنری ها بسازید و بعضی از مقادیر را خالی بگذارید. ۲- از لیست دیتافریم بسازید. ۳- آن را پرینت کنید.\n",
    "        <br>\n",
    "\t</font>\n",
    "</div>"
   ]
  },
  {
   "cell_type": "code",
   "execution_count": 12,
   "id": "dbdeaeb7-4a9c-43f7-8b61-3670701f4249",
   "metadata": {},
   "outputs": [],
   "source": [
    "# TODO: create a List of Dicts, forexample: data=[{'test': 'test_1', 'Num': 1, 'NextNum': 2}, {'test': 'test_2', 'NextNum': 3}]\n",
    "# put your code here\n",
    "\n",
    "# TODO: create a dataframe from your created list\n",
    "# put your code here"
   ]
  },
  {
   "cell_type": "markdown",
   "id": "da602c63",
   "metadata": {},
   "source": [
    "<p></p>\n",
    "<br />\n",
    "<div id=\"sec_intro\" style=\"direction:rtl;line-height:300%;\">\n",
    "\t<font face=\"B Nazanin\" size=5>\n",
    "\t\t<font color=#FF7500 size=6>\n",
    "قسمت سوم- ساخت دیتافریم با دیکشنری از\n",
    "        </font>\n",
    "\t\t<p></p>\n",
    "\t\t<hr>\n",
    "       سوال-۱- ساخت دیکشنری ازseries ها میگیرد.\n",
    "\t   <br>\n",
    "\t\tدر Pandas، ما میتوانیم با استفاده از pd.Series یک سری از داده ها درست کنیم\n",
    "\t   <br>\n",
    "\t   در این تمرین شما باید:\n",
    "\t   ۱- یک دیکشنری از سری ها درست کنیدو برای هر ایندکس آن نامگذاری کنید. ۲- از دیکشنری ساخته شده دیتافریم بسازید. ۳- آن را پرینت کنید.\n",
    "        <br>\n",
    "\t</font>\n",
    "</div>"
   ]
  },
  {
   "cell_type": "code",
   "execution_count": 15,
   "id": "3a91bdaa-a50b-4ca3-a791-decaf4e26c7c",
   "metadata": {},
   "outputs": [],
   "source": [
    "# TODO: create a Dict of Series, forexample: data = {'Name': pd.Series(['test_1', 'test_2'], index=['Test_1', 'Test_2']),'Num': pd.Series([1, 2], index=['Test_1', 'Test_2'])}\n",
    "# put your code here\n",
    "\n",
    "# TODO: create a dataframe\n",
    "# put your code here\n",
    "\n",
    "\n",
    "# NOTICE: try to solve this problem with NaN values to get more familiar with pandas"
   ]
  },
  {
   "cell_type": "markdown",
   "id": "a6dae570",
   "metadata": {},
   "source": [
    "<p></p>\n",
    "<br />\n",
    "<div id=\"sec_intro\" style=\"direction:rtl;line-height:300%;\">\n",
    "\t<font face=\"B Nazanin\" size=5>\n",
    "\t\t<font color=#FF7500 size=6>\n",
    "قسمت چهارم- پردازش ستون ها\n",
    "        </font>\n",
    "\t\t<p></p>\n",
    "\t\t<hr>\n",
    "       در این قسمت ما به اضافه کردن، پاک کردن و انتخاب یک ستون میپردازیم.\n",
    "\t   <br>\n",
    "\t\tسوال-۱- اضافه کردن ستون\n",
    "\t   <br>\n",
    "\t   در این تمرین شما باید:\n",
    "\t   ۱- یک ستون جدید به اختیار خود برای دیتافریم بسازید. \n",
    "       2- آن را پرینت کنید.\n",
    "        <br>\n",
    "\t\tتوجه کنید که میتوانید از دیتافریم های ساخته شده بالا استفاده کنید.\n",
    "\t\t<br>\n",
    "\t</font>\n",
    "</div>"
   ]
  },
  {
   "cell_type": "code",
   "execution_count": 17,
   "id": "56798a7b-39d2-4f68-b747-c2ab418e9b3a",
   "metadata": {},
   "outputs": [],
   "source": [
    "# TODO: add column, forexample by using series: df ['added_col'] = pd.Series(['test_1', 'test_2'], index=['Test_1', 'Test_2'])\n",
    "# put your code here\n",
    "\n",
    "# TODO: print the dataframe\n",
    "# put your code here"
   ]
  },
  {
   "cell_type": "markdown",
   "id": "12cab8ba",
   "metadata": {},
   "source": [
    "<p></p>\n",
    "<br />\n",
    "<div id=\"sec_intro\" style=\"direction:rtl;line-height:300%;\">\n",
    "\t<font face=\"B Nazanin\" size=5>\n",
    "\t\t<font color=#FF7500 size=6>\n",
    "سوال-۲- اضافه کردن ستون با استفاده از ستون ها دیگر\n",
    "        </font>\n",
    "\t\t<p></p>\n",
    "\t\t<hr>\n",
    "       ما میتوانیم از ستون های موجود دیگر در دیتافریم برای ساخت ستون جدید استفاده کنیم. بطور مثال اگر دو تا ستون عددی داشته باشیم، میتوانیم ستون جدیدی با استفاده از جمع آن دو ستون عددی بسازیم و به دیتافریم اضافه کنیم.\n",
    "\t   <br>\n",
    "\t   در این تمرین شما باید:\n",
    "\t   ۱- یک ستون جدید با استفاده از ستون های موجود برای دیتافریم بسازید\n",
    "       2- آن را پرینت کنید\n",
    "        <br>\n",
    "\t\tتوجه کنید که میتوانید از دیتافریم های ساخته شده بالا استفاده کنید.\n",
    "\t\t<br>\n",
    "\t</font>\n",
    "</div>"
   ]
  },
  {
   "cell_type": "code",
   "execution_count": 1,
   "id": "b4138bbb-bfbd-4928-9507-6500694beca4",
   "metadata": {},
   "outputs": [],
   "source": [
    "# TODO: create column using another cols\n",
    "# put your code here\n",
    "\n",
    "# TODO: print it\n",
    "# put your code here"
   ]
  },
  {
   "cell_type": "markdown",
   "id": "90a587b0",
   "metadata": {},
   "source": [
    "<p></p>\n",
    "<br />\n",
    "<div id=\"sec_intro\" style=\"direction:rtl;line-height:300%;\">\n",
    "\t<font face=\"B Nazanin\" size=5>\n",
    "\t\t<font color=#FF7500 size=6>\n",
    "سوال-۳- انتخاب کردن ستون \n",
    "        </font>\n",
    "\t\t<p></p>\n",
    "\t\t<hr>\n",
    "\t   <br>\n",
    "\t   در این تمرین شما باید:\n",
    "\t   ۱- یک ستون از بین ستون های موجود انتخاب کنید\n",
    "       2- آن را پرینت کنید\n",
    "        <br>\n",
    "\t\tتوجه کنید که میتوانید از دیتافریم های ساخته شده بالا استفاده کنید.\n",
    "\t\t<br>\n",
    "\t</font>\n",
    "</div>"
   ]
  },
  {
   "cell_type": "code",
   "execution_count": 21,
   "id": "c8cf804a-4864-472f-ad96-eae7eafd1faa",
   "metadata": {},
   "outputs": [],
   "source": [
    "# TODO: select a column\n",
    "# put your code here\n",
    "\n",
    "# TODO: print it\n",
    "# put your code here"
   ]
  },
  {
   "cell_type": "markdown",
   "id": "83942bce",
   "metadata": {},
   "source": [
    "<p></p>\n",
    "<br />\n",
    "<div id=\"sec_intro\" style=\"direction:rtl;line-height:300%;\">\n",
    "\t<font face=\"B Nazanin\" size=5>\n",
    "\t\t<font color=#FF7500 size=6>\n",
    "سوال-۴- حذف کردن ستون \n",
    "        </font>\n",
    "\t\t<p></p>\n",
    "\t\t<hr>\n",
    "\t   <br>\n",
    "\t   ما میتوانیم ستون را با استفاده از روش های زیر حدف کنیم:\n",
    "\t   ۱- تابع del\n",
    "       ۲- تابع pop\n",
    "\t   ۳- تابع drop\n",
    "        <br>\n",
    "\t\t<br>\n",
    "\t</font>\n",
    "</div>"
   ]
  },
  {
   "cell_type": "code",
   "execution_count": 23,
   "id": "0fdf756b-0c76-47e5-a927-04f2ca562a77",
   "metadata": {},
   "outputs": [],
   "source": [
    "# TODO: delete a column using del function\n",
    "# put your code here\n",
    "\n",
    "# TODO: delete a column using pop function\n",
    "# put your code here\n",
    "\n",
    "# TODO: delete a column using drop function\n",
    "# put your code here\n",
    "\n",
    "# it is better to print the dataframe after each method to see what happen"
   ]
  },
  {
   "cell_type": "markdown",
   "id": "8d3ce3c0",
   "metadata": {},
   "source": [
    "<p></p>\n",
    "<br />\n",
    "<div id=\"sec_intro\" style=\"direction:rtl;line-height:300%;\">\n",
    "\t<font face=\"B Nazanin\" size=5>\n",
    "\t\t<font color=#FF7500 size=6>\n",
    "قسمت ۵: پردازش سطر ها \n",
    "        </font>\n",
    "\t\t<p></p>\n",
    "\t\t<hr>\n",
    "       در این قسمت ما به اضافه کردن، پاک کردن و انتخاب یک سطر میپردازیم:\n",
    "\t   <br>\n",
    "\t\t سوال-۳- انتخاب کردن سطر \n",
    "\t   <br>\n",
    "\t   ما میتوانیم سطر را با استفاده از روش های زیر انتخاب کنیم:\n",
    "\t   ۱- انتخاب با label ۲- انتخاب با شماره ایندکس ۳- انتخاب با دو نقطه :\n",
    "        <br>\n",
    "\t</font>\n",
    "</div>"
   ]
  },
  {
   "cell_type": "code",
   "execution_count": 24,
   "id": "7a02d7d4-b886-4a02-971f-d1ebbfb4e5ce",
   "metadata": {},
   "outputs": [],
   "source": [
    "# TODO: try to select a row by Lable-- Lable means the sample name in here \n",
    "# put your code here\n",
    "\n",
    "# TODO: try to select a row by integer location-- integer location means the number of index of sample\n",
    "# put your code here\n",
    "\n",
    "# TODO: using : oprator forexample print[array[4:8]]\n",
    "# put your code here\n",
    "\n",
    "# you can print the dataframe in each step to see what happen"
   ]
  },
  {
   "cell_type": "markdown",
   "id": "aaea4c80-4c66-4a20-b627-db4933dd550d",
   "metadata": {},
   "source": [
    "<p></p>\n",
    "<br />\n",
    "<div id=\"sec_intro\" style=\"direction:rtl;line-height:300%;\">\n",
    "\t<font face=\"B Nazanin\" size=5>\n",
    "\t\t<font color=#FF7500 size=6>\n",
    "سوال-۲- اضافه کردن سطر \n",
    "        </font>\n",
    "\t\t<p></p>\n",
    "\t\t<hr>\n",
    "       برای اضافه کردن سطر میتوانید مقادیر جدید بسازید و سپس آن را به دیتافریم اضافه کنید.\n",
    "\t   <br>\n",
    "\t</font>\n",
    "</div>\n"
   ]
  },
  {
   "cell_type": "code",
   "execution_count": 25,
   "id": "72df6792-a293-45b7-9361-471e249ae365",
   "metadata": {},
   "outputs": [],
   "source": [
    "# TODO: create a row using DataFrame function\n",
    "# put your code here\n",
    "\n",
    "# TODO: add the created row to your dataframe, you can use append function\n",
    "# put your code here\n",
    "\n",
    "# TODO: print your dataframe to see it\n",
    "# put your code here"
   ]
  },
  {
   "cell_type": "markdown",
   "id": "f193589b-ff06-4f86-80a2-d36b35b8b6bc",
   "metadata": {},
   "source": [
    "<p></p>\n",
    "<br />\n",
    "<div id=\"sec_intro\" style=\"direction:rtl;line-height:300%;\">\n",
    "\t<font face=\"B Nazanin\" size=5>\n",
    "\t\t<font color=#FF7500 size=6>\n",
    " سوال-۳- پاک کردن سطر \n",
    "        </font>\n",
    "\t\t<p></p>\n",
    "\t\t<hr>\n",
    "       برای پاک کردن سطر، از تابع drop همراه شماره نمونه استفاده میشود.\n",
    "\t   <br>\n",
    "\t</font>\n",
    "</div>"
   ]
  },
  {
   "cell_type": "code",
   "execution_count": 26,
   "id": "8c97d92a-bfdb-457c-8c61-9974775b3c46",
   "metadata": {},
   "outputs": [],
   "source": [
    "# TODO: delete a row using drop function and the lable\n",
    "# put your code here\n",
    "\n",
    "# TODO: print your dataframe\n",
    "# put your code here"
   ]
  }
 ],
 "metadata": {
  "kernelspec": {
   "display_name": "Python 3 (ipykernel)",
   "language": "python",
   "name": "python3"
  },
  "language_info": {
   "codemirror_mode": {
    "name": "ipython",
    "version": 3
   },
   "file_extension": ".py",
   "mimetype": "text/x-python",
   "name": "python",
   "nbconvert_exporter": "python",
   "pygments_lexer": "ipython3",
   "version": "3.7.3"
  }
 },
 "nbformat": 4,
 "nbformat_minor": 5
}
