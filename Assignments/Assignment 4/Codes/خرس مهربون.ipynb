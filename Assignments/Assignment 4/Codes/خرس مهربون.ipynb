{
 "cells": [
  {
   "cell_type": "markdown",
   "id": "9f7fb9e1",
   "metadata": {},
   "source": [
    "<p></p>\n",
    "<br />\n",
    "<div id=\"sec_intro\" style=\"direction:rtl;line-height:300%;\">\n",
    "\t<font face=\"B Nazanin\" size=5>\n",
    "\t\t<font color=#FF7500 size=6>\n",
    "برنامه سازی برای تحلیل داده - تابستان 1402\n",
    "        </font>\n",
    "\t\t<p></p>\n",
    "        <h1 style=\"text-align: center\">\n",
    "        تمرین چهارم - سوال اول\n",
    "        </h1>\n",
    "\t\t<h2 style=\"text-align: center\">\n",
    "        میکرومستر دانشکده کامپیوتر\n",
    "\t\t<br>\n",
    "\t\tدانشگاه صنعتی شریف\n",
    "\t\t<br>\n",
    "\t\t</h3>\n",
    "            \n",
    "  "
   ]
  },
  {
   "cell_type": "markdown",
   "id": "d047a94d-5b46-4bde-8686-810253eab2f3",
   "metadata": {},
   "source": [
    "\n",
    "<p></p>\n",
    "<br />\n",
    "<div id=\"sec_intro\" style=\"direction:rtl;line-height:300%;\">\n",
    "\t<font face=\"B Nazanin\" size=5>\n",
    "\t\t<font color=#FF7500 size=6>\n",
    "بخش اول\n",
    "        </font>\n",
    "\t\t<p></p>\n",
    "\t\t<hr>\n",
    "       در این بخش میخواهیم با پانداس و دیتافریم‌های آن آشنا شویم.\n",
    "\t   <br>\n",
    "\t   دیتافریم های پانداس را می‌توان با استفاده از ورودی‌های مختلف ایجاد کرد:\n",
    "        <br>\n",
    "\t\t\n",
    "* Lists\n",
    "* dicts\n",
    "* Series\n",
    "* Numpy ndarrays\n",
    "\t\t\n",
    "\t<br>\n",
    "\tدر ابتدا کتابخانه‌های موردنیاز را ادد می‌کنیم.\n",
    "\t\t<br>\n",
    "\t</font>\n",
    "</div>"
   ]
  },
  {
   "cell_type": "code",
   "execution_count": 1,
   "id": "a1db75c2-ae34-45eb-8414-c13bba0f1ee0",
   "metadata": {},
   "outputs": [],
   "source": [
    "# import necessary libraries\n",
    "import pandas as pd\n",
    "import numpy as np"
   ]
  },
  {
   "cell_type": "markdown",
   "id": "1a20b82d",
   "metadata": {},
   "source": [
    "\n",
    "<p></p>\n",
    "<br />\n",
    "<div id=\"sec_intro\" style=\"direction:rtl;line-height:300%;\">\n",
    "\t<font face=\"B Nazanin\" size=5>\n",
    "\t\t<font color=#FF7500 size=6>\n",
    "قسمت اول - ساخت دیتافریم با لیست\n",
    "        </font>\n",
    "\t\t<p></p>\n",
    "\t\t<hr>\n",
    "       سوال اول- لیستی از اعداد \n",
    "\t   <br>\n",
    "\t   در این قسمت شما باید:\n",
    "\t   1- لیستی از اعداد بسازید. 2- از لیست دیتافریم بسازید. 3- آن را پرینت کنید.\n",
    "        <br>\n",
    "\t</font>\n",
    "</div>"
   ]
  },
  {
   "cell_type": "code",
   "execution_count": 2,
   "id": "b722065e-7a65-4f46-be55-06e68b339a0c",
   "metadata": {},
   "outputs": [
    {
     "name": "stdout",
     "output_type": "stream",
     "text": [
      "   data\n",
      "0     1\n",
      "1     2\n",
      "2     3\n",
      "3     4\n",
      "4     5\n",
      "5     1\n",
      "6     9\n",
      "<class 'pandas.core.frame.DataFrame'>\n",
      "RangeIndex: 7 entries, 0 to 6\n",
      "Data columns (total 1 columns):\n",
      " #   Column  Non-Null Count  Dtype\n",
      "---  ------  --------------  -----\n",
      " 0   data    7 non-null      int64\n",
      "dtypes: int64(1)\n",
      "memory usage: 188.0 bytes\n"
     ]
    }
   ],
   "source": [
    "# create an empty list\n",
    "data = []\n",
    "\n",
    "# TODO: add numbers to the data list\n",
    "# put your code here\n",
    "data.append(1)\n",
    "data.append(2)\n",
    "data.append(3)\n",
    "data.append(4)\n",
    "data.append(5)\n",
    "data.append(1)\n",
    "data.append(9)\n",
    "\n",
    "data\n",
    "# TODO: create a dataframe from the data list, then print it\n",
    "# put your code here\n",
    "\n",
    "dataframe = pd.DataFrame(data, columns=['data'])\n",
    "print(dataframe)\n",
    "dataframe.info()"
   ]
  },
  {
   "cell_type": "markdown",
   "id": "79f16216",
   "metadata": {},
   "source": [
    "\n",
    "<p></p>\n",
    "<br />\n",
    "<div id=\"sec_intro\" style=\"direction:rtl;line-height:300%;\">\n",
    "\t<font face=\"B Nazanin\" size=5>\n",
    "\t\t<font color=#FF7500 size=6>\n",
    "سوال دوم- لیستی از لیست ها\n",
    "        </font>\n",
    "\t\t<p></p>\n",
    "\t\t<hr>\n",
    "       در این تمرین شما باید\n",
    "\t   <br>\n",
    "\t   در این قسمت شما باید:\n",
    "\t   ۱- لیستی از اعداد و رشته ها بسازید. ۲- از لیست دیتافریم بسازید و برای هر ستون اسمی بگذارید. ۳- آن را پرینت کنید.\n",
    "        <br>\n",
    "\t</font>\n",
    "</div>"
   ]
  },
  {
   "cell_type": "code",
   "execution_count": 3,
   "id": "a98c79e1-56d3-4c6d-acdf-30d9867e8d64",
   "metadata": {},
   "outputs": [
    {
     "name": "stdout",
     "output_type": "stream",
     "text": [
      "     c1    c2     c3      c4\n",
      "0     1  asdf    435    True\n",
      "1  asdd   123  False  Herllo\n",
      "<class 'pandas.core.frame.DataFrame'>\n",
      "RangeIndex: 2 entries, 0 to 1\n",
      "Data columns (total 4 columns):\n",
      " #   Column  Non-Null Count  Dtype \n",
      "---  ------  --------------  ----- \n",
      " 0   c1      2 non-null      object\n",
      " 1   c2      2 non-null      object\n",
      " 2   c3      2 non-null      object\n",
      " 3   c4      2 non-null      object\n",
      "dtypes: object(4)\n",
      "memory usage: 196.0+ bytes\n"
     ]
    }
   ],
   "source": [
    "# create an empty list\n",
    "data = []\n",
    "\n",
    "# TODO: add List of lists to data, forexample: data=[['test_1', 1],['test_2', 2]]\n",
    "# put your code here\n",
    "list1 = [1,'asdf', 435, True]\n",
    "list2 = ['asdd', 123, False, 'Herllo']\n",
    "\n",
    "data.append(list1)\n",
    "data.append(list2)\n",
    "data\n",
    "\n",
    "# TODO: create a dataframe from the data list, then print it\n",
    "# put your code here\n",
    "\n",
    "dataframe = pd.DataFrame(data, columns=['c1', 'c2', 'c3', 'c4'])\n",
    "print(dataframe)\n",
    "dataframe.info()"
   ]
  },
  {
   "cell_type": "markdown",
   "id": "26204c1e",
   "metadata": {},
   "source": [
    "<p></p>\n",
    "<br />\n",
    "<div id=\"sec_intro\" style=\"direction:rtl;line-height:300%;\">\n",
    "\t<font face=\"B Nazanin\" size=5>\n",
    "\t\t<font color=#FF7500 size=6>\n",
    "قسمت دوم - ساخت دیتافریم با دیکشنری از آرایه ها و لیست ها\n",
    "        </font>\n",
    "\t\t<p></p>\n",
    "\t\t<hr>\n",
    "       سوال-۱- دیکشنری از لیست\n",
    "\t   <br>\n",
    "\t   در این تمرین شما باید:\n",
    "\t   ۱- دیکشنری از لیست ها بسازید. ۲- از لیست دیتافریم بسازید و برای هر نمونه اسمی بگذارید ۳- آن را پرینت کنید.\n",
    "        <br>\n",
    "\t</font>\n",
    "</div>"
   ]
  },
  {
   "cell_type": "code",
   "execution_count": 4,
   "id": "4abde381-69de-405a-9ba2-82892208f8c3",
   "metadata": {},
   "outputs": [
    {
     "name": "stdout",
     "output_type": "stream",
     "text": [
      "  test1 test2\n",
      "0     1    11\n",
      "1     2    22\n",
      "2     3    33\n",
      "  new1 new2\n",
      "0    1   11\n",
      "1    2   22\n",
      "2    3   33\n",
      "<class 'pandas.core.frame.DataFrame'>\n",
      "RangeIndex: 3 entries, 0 to 2\n",
      "Data columns (total 2 columns):\n",
      " #   Column  Non-Null Count  Dtype \n",
      "---  ------  --------------  ----- \n",
      " 0   new1    3 non-null      object\n",
      " 1   new2    3 non-null      object\n",
      "dtypes: object(2)\n",
      "memory usage: 180.0+ bytes\n"
     ]
    }
   ],
   "source": [
    "# TODO: create a Dict of List, forexample: data ={'test':['num_1','num_2'], 'num':[1, 2]}\n",
    "# put your code here\n",
    "data = {'test1':['1', '2', '3'], 'test2':['11','22','33']}\n",
    "data\n",
    "\n",
    "# TODO: create a dataframe from your created list, and set index for each sample\n",
    "# put your code here\n",
    "\n",
    "dataframe = pd.DataFrame(data)\n",
    "print(dataframe)\n",
    "# rename the columns to give our own names\n",
    "dataframe.rename(columns={'test1':'new1','test2':'new2'}, inplace=True)\n",
    "print(dataframe)\n",
    "dataframe.info()"
   ]
  },
  {
   "cell_type": "markdown",
   "id": "172e214b",
   "metadata": {},
   "source": [
    "<p></p>\n",
    "<br />\n",
    "<div id=\"sec_intro\" style=\"direction:rtl;line-height:300%;\">\n",
    "\t<font face=\"B Nazanin\" size=5>\n",
    "\t\t<font color=#FF7500 size=6>\n",
    "سوال-۲- لیستی از دیکشنری ها \n",
    "        </font>\n",
    "\t\t<p></p>\n",
    "\t\t<hr>\n",
    "       تصور کنید که ما ۴ تا ویژگی داریم. گاهی اوقات اگر مقداری برای یکی از این ویژگیها در نظر نگیریم، در این صورت خود کتابخانه پانداز برای آن ویژگی مقدار NaN را در نظر میگیرد \n",
    "\t   <br>\n",
    "\t   در این تمرین شما باید:\n",
    "\t   ۱- لیستی از دیکشنری ها بسازید و بعضی از مقادیر را خالی بگذارید. ۲- از لیست دیتافریم بسازید. ۳- آن را پرینت کنید.\n",
    "        <br>\n",
    "\t</font>\n",
    "</div>"
   ]
  },
  {
   "cell_type": "code",
   "execution_count": 5,
   "id": "dbdeaeb7-4a9c-43f7-8b61-3670701f4249",
   "metadata": {},
   "outputs": [
    {
     "name": "stdout",
     "output_type": "stream",
     "text": [
      "     test  Num  NextNum\n",
      "0  test_1    1      2.0\n",
      "1  test_2  NaN      3.0\n",
      "2  test_3    1      NaN\n",
      "<class 'pandas.core.frame.DataFrame'>\n",
      "RangeIndex: 3 entries, 0 to 2\n",
      "Data columns (total 3 columns):\n",
      " #   Column   Non-Null Count  Dtype  \n",
      "---  ------   --------------  -----  \n",
      " 0   test     3 non-null      object \n",
      " 1   Num      2 non-null      object \n",
      " 2   NextNum  2 non-null      float64\n",
      "dtypes: float64(1), object(2)\n",
      "memory usage: 204.0+ bytes\n"
     ]
    }
   ],
   "source": [
    "# TODO: create a List of Dicts, forexample: data=[{'test': 'test_1', 'Num': 1, 'NextNum': 2}, {'test': 'test_2', 'NextNum': 3}]\n",
    "# put your code here\n",
    "\n",
    "data=[{'test': 'test_1', 'Num': 1, 'NextNum': 2}, {'test': 'test_2', 'NextNum': 3}, {'test': 'test_3', 'Num':'1', 'NextNum':np.NaN}]\n",
    "data\n",
    "# TODO: create a dataframe from your created list\n",
    "# put your code here\n",
    "\n",
    "dataframe = pd.DataFrame(data)\n",
    "print(dataframe)\n",
    "dataframe.info()"
   ]
  },
  {
   "cell_type": "markdown",
   "id": "da602c63",
   "metadata": {},
   "source": [
    "<p></p>\n",
    "<br />\n",
    "<div id=\"sec_intro\" style=\"direction:rtl;line-height:300%;\">\n",
    "\t<font face=\"B Nazanin\" size=5>\n",
    "\t\t<font color=#FF7500 size=6>\n",
    "قسمت سوم- ساخت دیتافریم با دیکشنری از\n",
    "        </font>\n",
    "\t\t<p></p>\n",
    "\t\t<hr>\n",
    "       سوال-۱- ساخت دیکشنری ازseries ها میگیرد.\n",
    "\t   <br>\n",
    "\t\tدر Pandas، ما میتوانیم با استفاده از pd.Series یک سری از داده ها درست کنیم\n",
    "\t   <br>\n",
    "\t   در این تمرین شما باید:\n",
    "\t   ۱- یک دیکشنری از سری ها درست کنیدو برای هر ایندکس آن نامگذاری کنید. ۲- از دیکشنری ساخته شده دیتافریم بسازید. ۳- آن را پرینت کنید.\n",
    "        <br>\n",
    "\t</font>\n",
    "</div>"
   ]
  },
  {
   "cell_type": "code",
   "execution_count": 6,
   "id": "3a91bdaa-a50b-4ca3-a791-decaf4e26c7c",
   "metadata": {},
   "outputs": [
    {
     "name": "stdout",
     "output_type": "stream",
     "text": [
      "         Name  Num   New\n",
      "alpha  test_1    1   NaN\n",
      "beta   test_2    2  True\n",
      "<class 'pandas.core.frame.DataFrame'>\n",
      "Index: 2 entries, alpha to beta\n",
      "Data columns (total 3 columns):\n",
      " #   Column  Non-Null Count  Dtype \n",
      "---  ------  --------------  ----- \n",
      " 0   Name    2 non-null      object\n",
      " 1   Num     2 non-null      int64 \n",
      " 2   New     1 non-null      object\n",
      "dtypes: int64(1), object(2)\n",
      "memory usage: 64.0+ bytes\n"
     ]
    }
   ],
   "source": [
    "# TODO: create a Dict of Series, forexample: data = {'Name': pd.Series(['test_1', 'test_2'], index=['Test_1', 'Test_2']),'Num': pd.Series([1, 2], index=['Test_1', 'Test_2'])}\n",
    "# put your code here\n",
    "\n",
    "data = {'Name': pd.Series(['test_1', 'test_2'], index=['alpha', 'beta']),\n",
    "        'Num': pd.Series([1, 2], index=['alpha', 'beta']),\n",
    "        'New': pd.Series([np.NAN, True], index=['alpha', 'beta'])}\n",
    "data\n",
    "\n",
    "# TODO: create a dataframe\n",
    "# put your code here\n",
    "dataframe = pd.DataFrame(data)\n",
    "dataframe\n",
    "\n",
    "\n",
    "print(dataframe)\n",
    "dataframe.info()\n",
    "# NOTICE: try to solve this problem with NaN values to get more familiar with pandas"
   ]
  },
  {
   "cell_type": "markdown",
   "id": "a6dae570",
   "metadata": {},
   "source": [
    "<p></p>\n",
    "<br />\n",
    "<div id=\"sec_intro\" style=\"direction:rtl;line-height:300%;\">\n",
    "\t<font face=\"B Nazanin\" size=5>\n",
    "\t\t<font color=#FF7500 size=6>\n",
    "قسمت چهارم- پردازش ستون ها\n",
    "        </font>\n",
    "\t\t<p></p>\n",
    "\t\t<hr>\n",
    "       در این قسمت ما به اضافه کردن، پاک کردن و انتخاب یک ستون میپردازیم.\n",
    "\t   <br>\n",
    "\t\tسوال-۱- اضافه کردن ستون\n",
    "\t   <br>\n",
    "\t   در این تمرین شما باید:\n",
    "\t   ۱- یک ستون جدید به اختیار خود برای دیتافریم بسازید. \n",
    "       2- آن را پرینت کنید.\n",
    "        <br>\n",
    "\t\tتوجه کنید که میتوانید از دیتافریم های ساخته شده بالا استفاده کنید.\n",
    "\t\t<br>\n",
    "\t</font>\n",
    "</div>"
   ]
  },
  {
   "cell_type": "code",
   "execution_count": 7,
   "id": "56798a7b-39d2-4f68-b747-c2ab418e9b3a",
   "metadata": {},
   "outputs": [
    {
     "name": "stdout",
     "output_type": "stream",
     "text": [
      "         Name  Num   New   new_co  new_co2\n",
      "alpha  test_1    1   NaN  123asdf   test22\n",
      "beta   test_2    2  True  #$@SDFA  test234\n",
      "<class 'pandas.core.frame.DataFrame'>\n",
      "Index: 2 entries, alpha to beta\n",
      "Data columns (total 5 columns):\n",
      " #   Column   Non-Null Count  Dtype \n",
      "---  ------   --------------  ----- \n",
      " 0   Name     2 non-null      object\n",
      " 1   Num      2 non-null      int64 \n",
      " 2   New      1 non-null      object\n",
      " 3   new_co   2 non-null      object\n",
      " 4   new_co2  2 non-null      object\n",
      "dtypes: int64(1), object(4)\n",
      "memory usage: 96.0+ bytes\n"
     ]
    }
   ],
   "source": [
    "# TODO: add column, forexample by using series: df ['added_col'] = pd.Series(['test_1', 'test_2'], index=['Test_1', 'Test_2'])\n",
    "# put your code here\n",
    "current_df = dataframe.copy()\n",
    "current_df\n",
    "\n",
    "# first way: concatenate\n",
    "new_column = pd.Series(['123asdf','#$@SDFA'], index=['alpha','beta'], name='new_co')\n",
    "new_column\n",
    "concatenated_df = pd.concat([current_df, new_column],axis=1)\n",
    "\n",
    "# second way: creating a new column and giving it data like mentioned above\n",
    "concatenated_df['new_co2'] = pd.Series(['test22','test234'], index=['alpha','beta'])\n",
    "concatenated_df\n",
    "\n",
    "\n",
    "# TODO: print the dataframe\n",
    "# put your code here\n",
    "\n",
    "\n",
    "print(concatenated_df)\n",
    "\n",
    "concatenated_df.info()"
   ]
  },
  {
   "cell_type": "markdown",
   "id": "12cab8ba",
   "metadata": {},
   "source": [
    "<p></p>\n",
    "<br />\n",
    "<div id=\"sec_intro\" style=\"direction:rtl;line-height:300%;\">\n",
    "\t<font face=\"B Nazanin\" size=5>\n",
    "\t\t<font color=#FF7500 size=6>\n",
    "سوال-۲- اضافه کردن ستون با استفاده از ستون ها دیگر\n",
    "        </font>\n",
    "\t\t<p></p>\n",
    "\t\t<hr>\n",
    "       ما میتوانیم از ستون های موجود دیگر در دیتافریم برای ساخت ستون جدید استفاده کنیم. بطور مثال اگر دو تا ستون عددی داشته باشیم، میتوانیم ستون جدیدی با استفاده از جمع آن دو ستون عددی بسازیم و به دیتافریم اضافه کنیم.\n",
    "\t   <br>\n",
    "\t   در این تمرین شما باید:\n",
    "\t   ۱- یک ستون جدید با استفاده از ستون های موجود برای دیتافریم بسازید\n",
    "       2- آن را پرینت کنید\n",
    "        <br>\n",
    "\t\tتوجه کنید که میتوانید از دیتافریم های ساخته شده بالا استفاده کنید.\n",
    "\t\t<br>\n",
    "\t</font>\n",
    "</div>"
   ]
  },
  {
   "cell_type": "code",
   "execution_count": 8,
   "id": "b4138bbb-bfbd-4928-9507-6500694beca4",
   "metadata": {},
   "outputs": [
    {
     "name": "stdout",
     "output_type": "stream",
     "text": [
      "         Name  Num   New   new_co  new_co2  numbers  square of numbers column\n",
      "alpha  test_1    1   NaN  123asdf   test22       12                       144\n",
      "beta   test_2    2  True  #$@SDFA  test234       24                       576\n"
     ]
    }
   ],
   "source": [
    "# TODO: create column using another cols\n",
    "# put your code here\n",
    "\n",
    "new_df = concatenated_df.copy()\n",
    "new_df['numbers'] = pd.Series([12,24], index=['alpha', 'beta'])\n",
    "new_df['square of numbers column'] = new_df['numbers'] ** 2\n",
    "new_df\n",
    "\n",
    "# TODO: print it\n",
    "# put your code here\n",
    "\n",
    "print(new_df)"
   ]
  },
  {
   "cell_type": "markdown",
   "id": "90a587b0",
   "metadata": {},
   "source": [
    "<p></p>\n",
    "<br />\n",
    "<div id=\"sec_intro\" style=\"direction:rtl;line-height:300%;\">\n",
    "\t<font face=\"B Nazanin\" size=5>\n",
    "\t\t<font color=#FF7500 size=6>\n",
    "سوال-۳- انتخاب کردن ستون \n",
    "        </font>\n",
    "\t\t<p></p>\n",
    "\t\t<hr>\n",
    "\t   <br>\n",
    "\t   در این تمرین شما باید:\n",
    "\t   ۱- یک ستون از بین ستون های موجود انتخاب کنید\n",
    "       2- آن را پرینت کنید\n",
    "        <br>\n",
    "\t\tتوجه کنید که میتوانید از دیتافریم های ساخته شده بالا استفاده کنید.\n",
    "\t\t<br>\n",
    "\t</font>\n",
    "</div>"
   ]
  },
  {
   "cell_type": "code",
   "execution_count": 9,
   "id": "c8cf804a-4864-472f-ad96-eae7eafd1faa",
   "metadata": {},
   "outputs": [
    {
     "name": "stdout",
     "output_type": "stream",
     "text": [
      "alpha    123asdf\n",
      "beta     #$@SDFA\n",
      "Name: new_co, dtype: object\n"
     ]
    }
   ],
   "source": [
    "# TODO: select a column\n",
    "# put your code here\n",
    "new_df2 = new_df.copy()\n",
    "\n",
    "column2 = new_df2['new_co']\n",
    "\n",
    "\n",
    "# TODO: print it\n",
    "# put your code here\n",
    "\n",
    "print(column2)"
   ]
  },
  {
   "cell_type": "markdown",
   "id": "83942bce",
   "metadata": {},
   "source": [
    "<p></p>\n",
    "<br />\n",
    "<div id=\"sec_intro\" style=\"direction:rtl;line-height:300%;\">\n",
    "\t<font face=\"B Nazanin\" size=5>\n",
    "\t\t<font color=#FF7500 size=6>\n",
    "سوال-۴- حذف کردن ستون \n",
    "        </font>\n",
    "\t\t<p></p>\n",
    "\t\t<hr>\n",
    "\t   <br>\n",
    "\t   ما میتوانیم ستون را با استفاده از روش های زیر حدف کنیم:\n",
    "\t   ۱- تابع del\n",
    "       ۲- تابع pop\n",
    "\t   ۳- تابع drop\n",
    "        <br>\n",
    "\t\t<br>\n",
    "\t</font>\n",
    "</div>"
   ]
  },
  {
   "cell_type": "code",
   "execution_count": 10,
   "id": "0fdf756b-0c76-47e5-a927-04f2ca562a77",
   "metadata": {},
   "outputs": [
    {
     "name": "stdout",
     "output_type": "stream",
     "text": [
      "         Name  Num   New   new_co  new_co2  numbers  square of numbers column\n",
      "alpha  test_1    1   NaN  123asdf   test22       12                       144\n",
      "beta   test_2    2  True  #$@SDFA  test234       24                       576\n",
      "         Name  Num   new_co  new_co2  numbers  square of numbers column\n",
      "alpha  test_1    1  123asdf   test22       12                       144\n",
      "beta   test_2    2  #$@SDFA  test234       24                       576\n",
      "#*#*#*#*#*#*#*#*#*#*#*#*#*#*#*#*#*#*#*#*#*#*#*#*#*#*#*#*#*#*#*#*#*#*#*#*#*#*#*#*#*#*#*#*#*#*#*#*#*#*#*#*#*#*#*#*#*#*#*#*\n",
      "         Name  Num   New   new_co  new_co2  numbers  square of numbers column\n",
      "alpha  test_1    1   NaN  123asdf   test22       12                       144\n",
      "beta   test_2    2  True  #$@SDFA  test234       24                       576\n",
      "       Num   New   new_co  new_co2  numbers  square of numbers column\n",
      "alpha    1   NaN  123asdf   test22       12                       144\n",
      "beta     2  True  #$@SDFA  test234       24                       576\n",
      "#*#*#*#*#*#*#*#*#*#*#*#*#*#*#*#*#*#*#*#*#*#*#*#*#*#*#*#*#*#*#*#*#*#*#*#*#*#*#*#*#*#*#*#*#*#*#*#*#*#*#*#*#*#*#*#*#*#*#*#*\n",
      "         Name  Num   New   new_co  new_co2  numbers  square of numbers column\n",
      "alpha  test_1    1   NaN  123asdf   test22       12                       144\n",
      "beta   test_2    2  True  #$@SDFA  test234       24                       576\n",
      "       Num   new_co  new_co2  numbers  square of numbers column\n",
      "alpha    1  123asdf   test22       12                       144\n",
      "beta     2  #$@SDFA  test234       24                       576\n"
     ]
    }
   ],
   "source": [
    "# TODO: delete a column using del function\n",
    "# put your code here\n",
    "new_df3 = new_df2.copy()\n",
    "print(new_df3)\n",
    "del new_df3['New']\n",
    "print(new_df3)\n",
    "print('#*#*' * 30)\n",
    "\n",
    "\n",
    "\n",
    "# TODO: delete a column using pop function\n",
    "# put your code here\n",
    "new_df4 = new_df2.copy()\n",
    "print(new_df4)\n",
    "new_df4.pop('Name')\n",
    "print(new_df4)\n",
    "print(\"#*#*\" * 30)\n",
    "\n",
    "\n",
    "\n",
    "# TODO: delete a column using drop function\n",
    "# put your code here\n",
    "new_df5 = new_df2.copy()\n",
    "print(new_df5)\n",
    "new_df5.drop(columns=['Name', 'New'], inplace=True)\n",
    "print(new_df5)\n",
    "\n",
    "\n",
    "# it is better to print the dataframe after each method to see what happen"
   ]
  },
  {
   "cell_type": "markdown",
   "id": "8d3ce3c0",
   "metadata": {},
   "source": [
    "<p></p>\n",
    "<br />\n",
    "<div id=\"sec_intro\" style=\"direction:rtl;line-height:300%;\">\n",
    "\t<font face=\"B Nazanin\" size=5>\n",
    "\t\t<font color=#FF7500 size=6>\n",
    "قسمت ۵: پردازش سطر ها \n",
    "        </font>\n",
    "\t\t<p></p>\n",
    "\t\t<hr>\n",
    "       در این قسمت ما به اضافه کردن، پاک کردن و انتخاب یک سطر میپردازیم:\n",
    "\t   <br>\n",
    "\t\t سوال-۳- انتخاب کردن سطر \n",
    "\t   <br>\n",
    "\t   ما میتوانیم سطر را با استفاده از روش های زیر انتخاب کنیم:\n",
    "\t   ۱- انتخاب با label ۲- انتخاب با شماره ایندکس ۳- انتخاب با دو نقطه :\n",
    "        <br>\n",
    "\t</font>\n",
    "</div>"
   ]
  },
  {
   "cell_type": "code",
   "execution_count": 11,
   "id": "7a02d7d4-b886-4a02-971f-d1ebbfb4e5ce",
   "metadata": {},
   "outputs": [
    {
     "name": "stdout",
     "output_type": "stream",
     "text": [
      "         Name  Num   New   new_co  new_co2  numbers  square of numbers column\n",
      "alpha  test_1    1   NaN  123asdf   test22       12                       144\n",
      "beta   test_2    2  True  #$@SDFA  test234       24                       576\n",
      "**************************************************\n",
      "Name                         test_1\n",
      "Num                               1\n",
      "New                             NaN\n",
      "new_co                      123asdf\n",
      "new_co2                      test22\n",
      "numbers                          12\n",
      "square of numbers column        144\n",
      "Name: alpha, dtype: object\n",
      "#*#*#*#*#*#*#*#*#*#*#*#*#*#*#*#*#*#*#*#*#*#*#*#*#*#*#*#*#*#*#*#*#*#*#*#*#*#*#*#*#*#*#*#*#*#*#*#*#*#*#*#*#*#*#*#*#*#*#*#*\n",
      "Name                         test_2\n",
      "Num                               2\n",
      "New                            True\n",
      "new_co                      #$@SDFA\n",
      "new_co2                     test234\n",
      "numbers                          24\n",
      "square of numbers column        576\n",
      "Name: beta, dtype: object\n",
      "#*#*#*#*#*#*#*#*#*#*#*#*#*#*#*#*#*#*#*#*#*#*#*#*#*#*#*#*#*#*#*#*#*#*#*#*#*#*#*#*#*#*#*#*#*#*#*#*#*#*#*#*#*#*#*#*#*#*#*#*\n",
      "         Name  Num  New   new_co new_co2  numbers  square of numbers column\n",
      "alpha  test_1    1  NaN  123asdf  test22       12                       144\n"
     ]
    }
   ],
   "source": [
    "# TODO: try to select a row by Lable-- Lable means the sample name in here \n",
    "# put your code here\n",
    "\n",
    "new_df6 = new_df2.copy()\n",
    "print(new_df6)\n",
    "print(\"*\" * 50)\n",
    "row_by_label = new_df6.loc['alpha']\n",
    "print(row_by_label)\n",
    "print(\"#*#*\" * 30)\n",
    "\n",
    "# TODO: try to select a row by integer location-- integer location means the number of index of sample\n",
    "# put your code here\n",
    "row_by_index = new_df6.iloc[1]\n",
    "print(row_by_index)\n",
    "print(\"#*#*\" * 30)\n",
    "\n",
    "\n",
    "# TODO: using : oprator forexample print[array[4:8]]\n",
    "# put your code here\n",
    "\n",
    "sliced_dataframe = new_df6[0:1]\n",
    "print(sliced_dataframe)\n",
    "\n",
    "\n",
    "# you can print the dataframe in each step to see what happen"
   ]
  },
  {
   "cell_type": "markdown",
   "id": "aaea4c80-4c66-4a20-b627-db4933dd550d",
   "metadata": {},
   "source": [
    "<p></p>\n",
    "<br />\n",
    "<div id=\"sec_intro\" style=\"direction:rtl;line-height:300%;\">\n",
    "\t<font face=\"B Nazanin\" size=5>\n",
    "\t\t<font color=#FF7500 size=6>\n",
    "سوال-۲- اضافه کردن سطر \n",
    "        </font>\n",
    "\t\t<p></p>\n",
    "\t\t<hr>\n",
    "       برای اضافه کردن سطر میتوانید مقادیر جدید بسازید و سپس آن را به دیتافریم اضافه کنید.\n",
    "\t   <br>\n",
    "\t</font>\n",
    "</div>\n"
   ]
  },
  {
   "cell_type": "code",
   "execution_count": 12,
   "id": "72df6792-a293-45b7-9361-471e249ae365",
   "metadata": {},
   "outputs": [
    {
     "name": "stdout",
     "output_type": "stream",
     "text": [
      "       Name  Num   New  new_co  new_co2  numbers square of numbers column\n",
      "gamma  1234  sdg  2134      43      NaN      234                  353uit4\n",
      "#*#*#*#*#*#*#*#*#*#*#*#*#*#*#*#*#*#*#*#*#*#*#*#*#*#*#*#*#*#*#*#*#*#*#*#*#*#*#*#*#*#*#*#*#*#*#*#*#*#*#*#*#*#*#*#*#*#*#*#*\n",
      "         Name  Num   New   new_co  new_co2  numbers square of numbers column\n",
      "alpha  test_1    1   NaN  123asdf   test22       12                      144\n",
      "beta   test_2    2  True  #$@SDFA  test234       24                      576\n",
      "gamma    1234  sdg  2134       43      NaN      234                  353uit4\n"
     ]
    }
   ],
   "source": [
    "# TODO: create a row using DataFrame function\n",
    "# put your code here\n",
    "new_data = pd.DataFrame({'Name':'1234',  'Num':'sdg',   'New':2134,   'new_co':43,\n",
    "                         'new_co2':np.nan,  'numbers':234 , 'square of numbers column':'353uit4'}, index=['gamma'])\n",
    "\n",
    "print(new_data)\n",
    "print(\"#*#*\" *30)\n",
    "# TODO: add the created row to your dataframe, you can use append function\n",
    "# put your code here\n",
    "\n",
    "new_df7 = new_df2.copy()\n",
    "new_df7\n",
    "\n",
    "# new_df7 = new_df7.append(new_data)\n",
    "new_df7 = pd.concat([new_df7, new_data],axis=0)\n",
    "new_df7\n",
    "\n",
    "# TODO: print your dataframe to see it\n",
    "# put your code here\n",
    "print(new_df7)"
   ]
  },
  {
   "cell_type": "markdown",
   "id": "f193589b-ff06-4f86-80a2-d36b35b8b6bc",
   "metadata": {},
   "source": [
    "<p></p>\n",
    "<br />\n",
    "<div id=\"sec_intro\" style=\"direction:rtl;line-height:300%;\">\n",
    "\t<font face=\"B Nazanin\" size=5>\n",
    "\t\t<font color=#FF7500 size=6>\n",
    " سوال-۳- پاک کردن سطر \n",
    "        </font>\n",
    "\t\t<p></p>\n",
    "\t\t<hr>\n",
    "       برای پاک کردن سطر، از تابع drop همراه شماره نمونه استفاده میشود.\n",
    "\t   <br>\n",
    "\t</font>\n",
    "</div>"
   ]
  },
  {
   "cell_type": "code",
   "execution_count": 13,
   "id": "8c97d92a-bfdb-457c-8c61-9974775b3c46",
   "metadata": {},
   "outputs": [
    {
     "name": "stdout",
     "output_type": "stream",
     "text": [
      "         Name  Num   New   new_co new_co2  numbers square of numbers column\n",
      "alpha  test_1    1   NaN  123asdf  test22       12                      144\n",
      "gamma    1234  sdg  2134       43     NaN      234                  353uit4\n"
     ]
    }
   ],
   "source": [
    "# TODO: delete a row using drop function and the lable\n",
    "# put your code here\n",
    "\n",
    "new_df8 = new_df7.copy()\n",
    "\n",
    "# removing by index label\n",
    "# new_df8.drop('alpha', axis='index', inplace=True)\n",
    "\n",
    "# removing by index beta using its location\n",
    "new_df8.drop(new_df8.index[1], axis=0, inplace=True)\n",
    "\n",
    "# TODO: print your dataframe\n",
    "# put your code here\n",
    "\n",
    "print(new_df8)"
   ]
  }
 ],
 "metadata": {
  "kernelspec": {
   "display_name": "Python 3 (ipykernel)",
   "language": "python",
   "name": "python3"
  },
  "language_info": {
   "codemirror_mode": {
    "name": "ipython",
    "version": 3
   },
   "file_extension": ".py",
   "mimetype": "text/x-python",
   "name": "python",
   "nbconvert_exporter": "python",
   "pygments_lexer": "ipython3",
   "version": "3.11.4"
  }
 },
 "nbformat": 4,
 "nbformat_minor": 5
}
