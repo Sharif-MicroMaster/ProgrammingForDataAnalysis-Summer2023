{
 "cells": [
  {
   "attachments": {},
   "cell_type": "markdown",
   "metadata": {},
   "source": [
    "# Data analysis"
   ]
  },
  {
   "attachments": {},
   "cell_type": "markdown",
   "metadata": {},
   "source": [
    "**Execute the cell below. By running this cell, a dataset will be loaded from `patents.csv` file. There are three numpy arrays in this dataset:**\n",
    "- `category`: the category to which a patent belongs \n",
    "- `patent_number`: a unique identifier for each patetnt\n",
    "- `patent features`: a vector of 16 features describing several properties of each patent\n"
   ]
  },
  {
   "cell_type": "code",
   "execution_count": 2,
   "metadata": {},
   "outputs": [
    {
     "data": {
      "text/html": [
       "<div>\n",
       "<style scoped>\n",
       "    .dataframe tbody tr th:only-of-type {\n",
       "        vertical-align: middle;\n",
       "    }\n",
       "\n",
       "    .dataframe tbody tr th {\n",
       "        vertical-align: top;\n",
       "    }\n",
       "\n",
       "    .dataframe thead th {\n",
       "        text-align: right;\n",
       "    }\n",
       "</style>\n",
       "<table border=\"1\" class=\"dataframe\">\n",
       "  <thead>\n",
       "    <tr style=\"text-align: right;\">\n",
       "      <th></th>\n",
       "      <th>publication_number</th>\n",
       "      <th>title</th>\n",
       "      <th>cpc_code</th>\n",
       "      <th>patent_embedding</th>\n",
       "      <th>category</th>\n",
       "    </tr>\n",
       "  </thead>\n",
       "  <tbody>\n",
       "    <tr>\n",
       "      <th>0</th>\n",
       "      <td>US-2019250858-A1</td>\n",
       "      <td>memory controller and operating method thereof</td>\n",
       "      <td>G06F3/061</td>\n",
       "      <td>[ 0.00135472  0.01564001 -0.04858465  0.039866...</td>\n",
       "      <td>1</td>\n",
       "    </tr>\n",
       "    <tr>\n",
       "      <th>1</th>\n",
       "      <td>US-1000462-A</td>\n",
       "      <td>corn planter</td>\n",
       "      <td>A01C9/00</td>\n",
       "      <td>[-4.44490612e-02  2.48770583e-02 -5.62837869e-...</td>\n",
       "      <td>6</td>\n",
       "    </tr>\n",
       "    <tr>\n",
       "      <th>2</th>\n",
       "      <td>KR-200146416-Y1</td>\n",
       "      <td>antitheft vehicle security system</td>\n",
       "      <td>B60R25/209</td>\n",
       "      <td>[-2.53110677e-02 -2.04547048e-02  8.63679312e-...</td>\n",
       "      <td>0</td>\n",
       "    </tr>\n",
       "    <tr>\n",
       "      <th>3</th>\n",
       "      <td>KR-0160422-B1</td>\n",
       "      <td>a door opening and shutting apparatus and meth...</td>\n",
       "      <td>D06F37/42</td>\n",
       "      <td>[ 1.21761542e-02  1.97522007e-02 -6.62921891e-...</td>\n",
       "      <td>1</td>\n",
       "    </tr>\n",
       "    <tr>\n",
       "      <th>4</th>\n",
       "      <td>US-952306-A</td>\n",
       "      <td>spray burner</td>\n",
       "      <td>B05B1/3033</td>\n",
       "      <td>[-0.00214472  0.01606156 -0.09518531  0.060160...</td>\n",
       "      <td>0</td>\n",
       "    </tr>\n",
       "    <tr>\n",
       "      <th>...</th>\n",
       "      <td>...</td>\n",
       "      <td>...</td>\n",
       "      <td>...</td>\n",
       "      <td>...</td>\n",
       "      <td>...</td>\n",
       "    </tr>\n",
       "    <tr>\n",
       "      <th>15684</th>\n",
       "      <td>AT-415717-T</td>\n",
       "      <td>method and device for produce a low pressure w...</td>\n",
       "      <td>H01M8/04104</td>\n",
       "      <td>[ 1.77878514e-02  3.53233777e-02 -3.37363742e-...</td>\n",
       "      <td>1</td>\n",
       "    </tr>\n",
       "    <tr>\n",
       "      <th>15685</th>\n",
       "      <td>AT-424202-T</td>\n",
       "      <td>substitute _NUMBER_ thio _NUMBER_ _NUMBER_ dic...</td>\n",
       "      <td>C07D417/12</td>\n",
       "      <td>[-0.03664465 -0.01075565 -0.02483719 -0.033502...</td>\n",
       "      <td>5</td>\n",
       "    </tr>\n",
       "    <tr>\n",
       "      <th>15686</th>\n",
       "      <td>CA-2952951-A1</td>\n",
       "      <td>end tip for a vehicle wiper blade</td>\n",
       "      <td>B60S1/3894</td>\n",
       "      <td>[-4.39246558e-02  2.96350904e-02 -2.31920835e-...</td>\n",
       "      <td>0</td>\n",
       "    </tr>\n",
       "    <tr>\n",
       "      <th>15687</th>\n",
       "      <td>CH-608317-A</td>\n",
       "      <td>process for the compressive shrinkage of a web...</td>\n",
       "      <td>D06C21/00</td>\n",
       "      <td>[-3.34328553e-03  1.02757774e-02 -2.01825500e-...</td>\n",
       "      <td>6</td>\n",
       "    </tr>\n",
       "    <tr>\n",
       "      <th>15688</th>\n",
       "      <td>CN-100513251-C</td>\n",
       "      <td>system and process for open cover vessel hull</td>\n",
       "      <td>B63B71/00</td>\n",
       "      <td>[-1.98921170e-02  3.07969116e-02 -2.46879123e-...</td>\n",
       "      <td>6</td>\n",
       "    </tr>\n",
       "  </tbody>\n",
       "</table>\n",
       "<p>15689 rows × 5 columns</p>\n",
       "</div>"
      ],
      "text/plain": [
       "      publication_number                                              title  \\\n",
       "0       US-2019250858-A1     memory controller and operating method thereof   \n",
       "1           US-1000462-A                                       corn planter   \n",
       "2        KR-200146416-Y1                  antitheft vehicle security system   \n",
       "3          KR-0160422-B1  a door opening and shutting apparatus and meth...   \n",
       "4            US-952306-A                                       spray burner   \n",
       "...                  ...                                                ...   \n",
       "15684        AT-415717-T  method and device for produce a low pressure w...   \n",
       "15685        AT-424202-T  substitute _NUMBER_ thio _NUMBER_ _NUMBER_ dic...   \n",
       "15686      CA-2952951-A1                  end tip for a vehicle wiper blade   \n",
       "15687        CH-608317-A  process for the compressive shrinkage of a web...   \n",
       "15688     CN-100513251-C      system and process for open cover vessel hull   \n",
       "\n",
       "          cpc_code                                   patent_embedding  \\\n",
       "0        G06F3/061  [ 0.00135472  0.01564001 -0.04858465  0.039866...   \n",
       "1         A01C9/00  [-4.44490612e-02  2.48770583e-02 -5.62837869e-...   \n",
       "2       B60R25/209  [-2.53110677e-02 -2.04547048e-02  8.63679312e-...   \n",
       "3        D06F37/42  [ 1.21761542e-02  1.97522007e-02 -6.62921891e-...   \n",
       "4       B05B1/3033  [-0.00214472  0.01606156 -0.09518531  0.060160...   \n",
       "...            ...                                                ...   \n",
       "15684  H01M8/04104  [ 1.77878514e-02  3.53233777e-02 -3.37363742e-...   \n",
       "15685   C07D417/12  [-0.03664465 -0.01075565 -0.02483719 -0.033502...   \n",
       "15686   B60S1/3894  [-4.39246558e-02  2.96350904e-02 -2.31920835e-...   \n",
       "15687    D06C21/00  [-3.34328553e-03  1.02757774e-02 -2.01825500e-...   \n",
       "15688    B63B71/00  [-1.98921170e-02  3.07969116e-02 -2.46879123e-...   \n",
       "\n",
       "       category  \n",
       "0             1  \n",
       "1             6  \n",
       "2             0  \n",
       "3             1  \n",
       "4             0  \n",
       "...         ...  \n",
       "15684         1  \n",
       "15685         5  \n",
       "15686         0  \n",
       "15687         6  \n",
       "15688         6  \n",
       "\n",
       "[15689 rows x 5 columns]"
      ]
     },
     "execution_count": 2,
     "metadata": {},
     "output_type": "execute_result"
    }
   ],
   "source": [
    "import pandas as pd\n",
    "import numpy as np\n",
    "\n",
    "df = pd.read_csv('patents.csv')\n",
    "patent_features = df['patent_embedding'].to_numpy()\n",
    "features_array = []\n",
    "for i in range(patent_features.size):\n",
    "    feature = str(patent_features[i])\n",
    "    feature = feature.replace(r'\\n', '')\n",
    "    features_array.append(\n",
    "        np.array(feature.split()[1:-1], dtype='float')[:16]\n",
    "    )\n",
    "patent_features = np.stack(features_array)\n",
    "\n",
    "patent_category = df['category'].to_numpy() # TODO category column of dataset\n",
    "patent_number = df['publication_number'].to_numpy() #TODO (publication_number column of dataset)\n",
    "\n",
    "df"
   ]
  },
  {
   "cell_type": "markdown",
   "metadata": {},
   "source": [
    "<hr />"
   ]
  },
  {
   "cell_type": "markdown",
   "metadata": {},
   "source": [
    "1- Which patent has the highest norm? (Eucledian distance from origin)\n"
   ]
  },
  {
   "cell_type": "code",
   "execution_count": 3,
   "metadata": {},
   "outputs": [
    {
     "data": {
      "text/plain": [
       "'penicillanylaldehydes'"
      ]
     },
     "execution_count": 3,
     "metadata": {},
     "output_type": "execute_result"
    }
   ],
   "source": [
    "df.iloc[np.argmax(pd.DataFrame(patent_features).apply(np.linalg.norm, axis=1))]['title']"
   ]
  },
  {
   "cell_type": "markdown",
   "metadata": {},
   "source": [
    "2- Find the two patents that are the farthest from eachother."
   ]
  },
  {
   "cell_type": "code",
   "execution_count": 4,
   "metadata": {},
   "outputs": [
    {
     "name": "stdout",
     "output_type": "stream",
     "text": [
      "publication_number                                      KR-100793527-B1\n",
      "title                                                          abrasive\n",
      "cpc_code                                                       C09G1/02\n",
      "patent_embedding      [-3.89078408e-02 -3.91889922e-02 -1.55463070e-...\n",
      "category                                                              5\n",
      "Name: 1661, dtype: object\n",
      "publication_number                                         US-3240764-A\n",
      "title                                     polythiosemicarbazide chelate\n",
      "cpc_code                                                      C08G73/08\n",
      "patent_embedding      [ 0.01685247  0.02782189 -0.08498514 -0.033868...\n",
      "category                                                              2\n",
      "Name: 9236, dtype: object\n"
     ]
    }
   ],
   "source": [
    "from scipy.spatial.distance import pdist, squareform\n",
    "\n",
    "pairwise_distances = squareform(pdist(patent_features, 'euclidean'))\n",
    "\n",
    "max_distance_indices = np.unravel_index(np.argmax(pairwise_distances), pairwise_distances.shape)\n",
    "patent1 = df.iloc[max_distance_indices[0]]\n",
    "print(patent1)\n",
    "patent2 = df.iloc[max_distance_indices[1]]\n",
    "print(patent2)"
   ]
  },
  {
   "cell_type": "markdown",
   "metadata": {},
   "source": [
    "3- Write a function that, given a patent number, finds its nearest neighbour.\n"
   ]
  },
  {
   "cell_type": "code",
   "execution_count": 5,
   "metadata": {},
   "outputs": [],
   "source": [
    "from scipy.spatial.distance import cdist\n",
    "\n",
    "def find_nearest(patent_n):\n",
    "    # find the index\n",
    "    patent_index = df[df['publication_number'] == patent_n].index[0]\n",
    "    \n",
    "    # print(patent_index)\n",
    "    \n",
    "    # find the distance between each patent with given patent \n",
    "    distances = cdist(patent_features[patent_index:patent_index+1], patent_features, 'euclidean')\n",
    "    \n",
    "    distances[0, patent_index] = np.inf\n",
    "    \n",
    "    # print(distances.argmin())\n",
    "    \n",
    "    nearest_index = np.argmin(distances[0])\n",
    "    \n",
    "    # print(nearest_index)\n",
    "    \n",
    "    nearest_neighbor = df.iloc[nearest_index]\n",
    "    \n",
    "    return nearest_neighbor\n",
    "\n"
   ]
  },
  {
   "cell_type": "markdown",
   "metadata": {},
   "source": [
    "4- For each patent category, find the cluster center. This quantity is computed by taking average of all patents associated with each cluster."
   ]
  },
  {
   "cell_type": "code",
   "execution_count": 6,
   "metadata": {},
   "outputs": [
    {
     "name": "stdout",
     "output_type": "stream",
     "text": [
      "0 [ 0.01086092 -0.02427292  0.06917166 -0.04593048 -0.02812299 -0.0124727\n",
      " -0.04987288  0.00655626  0.0098301  -0.01550384  0.00122531  0.00426678\n",
      "  0.00017979  0.02210309 -0.02753392 -0.00829946]\n",
      "1 [ 0.01021772  0.0140427  -0.03571764  0.05286253 -0.04302765 -0.00263517\n",
      "  0.02233755 -0.04675915  0.01272022  0.03165236  0.01146286 -0.00024609\n",
      "  0.01377522  0.00555212  0.02024696 -0.04467966]\n",
      "2 [ 0.01844678  0.00991557 -0.05545595  0.02615103 -0.07078419 -0.0115121\n",
      "  0.04539117 -0.05906673 -0.02173693  0.00203886  0.00052992  0.02329754\n",
      " -0.03247548  0.03103352  0.0140693  -0.06104154]\n",
      "3 [ 0.01717531  0.01595333 -0.03129371  0.05920419 -0.05942006 -0.03559038\n",
      " -0.01542298 -0.05486974  0.00243557  0.004506   -0.02005723  0.00059813\n",
      " -0.00323446  0.00388401  0.01666861 -0.02052029]\n",
      "4 [ 0.01498087  0.02345642 -0.00569218  0.04002896 -0.03471142  0.00468704\n",
      "  0.01612199 -0.03838371  0.00732594  0.00352215  0.00011503  0.01232852\n",
      " -0.01395763  0.00333184  0.04570635 -0.0292569 ]\n",
      "5 [ 8.79519076e-03 -4.88311352e-02  2.29908733e-02 -5.66476866e-02\n",
      " -9.19576819e-03  4.12041488e-02 -5.63686219e-02 -1.33915669e-02\n",
      "  1.58014840e-02  1.14049335e-05  1.64819622e-02 -2.36509750e-02\n",
      "  1.72316331e-02  2.15542465e-02 -5.94789040e-02 -1.30144330e-02]\n",
      "6 [ 0.01211396 -0.0304879   0.05560378 -0.03702774  0.00110319  0.01892597\n",
      " -0.04493763  0.01639101  0.03405147  0.01160055 -0.0039251   0.01961012\n",
      "  0.0012078   0.02051051 -0.04779424 -0.01136447]\n",
      "7 [ 0.02380652 -0.00299412  0.0480317  -0.03110474  0.00233771  0.0145927\n",
      " -0.0331035   0.00962097  0.00774661  0.00056323  0.01158552 -0.00853263\n",
      "  0.00206507  0.04807342 -0.03418843  0.00104518]\n"
     ]
    }
   ],
   "source": [
    "# group patents by category\n",
    "grouped = df.groupby('category')\n",
    "\n",
    "for category, group_df in grouped:\n",
    "    \n",
    "    category_features = patent_features[group_df.index]\n",
    "    \n",
    "    # print(category_features)\n",
    "    \n",
    "    \n",
    "    cluster_center = np.mean(category_features, axis=0)\n",
    "    \n",
    "    \n",
    "    print(category, cluster_center)\n",
    "    "
   ]
  },
  {
   "cell_type": "markdown",
   "metadata": {},
   "source": [
    "5- How many patents have a nearest neighbour that is in the same category?"
   ]
  },
  {
   "cell_type": "code",
   "execution_count": 7,
   "metadata": {},
   "outputs": [
    {
     "name": "stdout",
     "output_type": "stream",
     "text": [
      "13000\n"
     ]
    }
   ],
   "source": [
    "df['has_same_category'] = False\n",
    "\n",
    "grouped = df.groupby('category')\n",
    "\n",
    "for category, group_df in grouped:\n",
    "    # iterating through patents in same category\n",
    "    for index, row in group_df.iterrows():\n",
    "        # find the nearest neighbor\n",
    "        nearest = find_nearest(row['publication_number'])\n",
    "        \n",
    "        if nearest['category'] == category:\n",
    "            df.at[index, 'has_same_category'] = True\n",
    "\n",
    "\n",
    "number_of_neighbors_with_same_category = df['has_same_category'].sum()       \n",
    "\n",
    "print(number_of_neighbors_with_same_category)"
   ]
  },
  {
   "cell_type": "markdown",
   "metadata": {},
   "source": [
    "6- What is the average and std of distances between every pair of patents?\n"
   ]
  },
  {
   "cell_type": "code",
   "execution_count": 8,
   "metadata": {},
   "outputs": [
    {
     "name": "stdout",
     "output_type": "stream",
     "text": [
      "0.17748927186252916 0.06170723377632848\n"
     ]
    }
   ],
   "source": [
    "pairwise_distances = pdist(patent_features, 'euclidean')\n",
    "\n",
    "average_distance = np.mean(pairwise_distances)\n",
    "std_distance = np.std(pairwise_distances)\n",
    "\n",
    "print(average_distance, std_distance)"
   ]
  },
  {
   "cell_type": "markdown",
   "metadata": {},
   "source": [
    "7- What is the average and std of distances between every pair of patents within a category?\n",
    "Using these calculated quantities, which cluster do you think is more condensed? Which one is more scattered?"
   ]
  },
  {
   "cell_type": "code",
   "execution_count": 12,
   "metadata": {},
   "outputs": [
    {
     "name": "stdout",
     "output_type": "stream",
     "text": [
      "1948\n",
      "average_distance: 0.17748927186252916       category:0\n",
      "std_distance: 0.03962927024874084          category:0\n",
      "********************\n",
      "2702\n",
      "average_distance: 0.17748927186252916       category:1\n",
      "std_distance: 0.030502801225921056          category:1\n",
      "********************\n",
      "919\n",
      "average_distance: 0.17748927186252916       category:2\n",
      "std_distance: 0.04381173385220193          category:2\n",
      "********************\n",
      "1020\n",
      "average_distance: 0.17748927186252916       category:3\n",
      "std_distance: 0.04464178403289032          category:3\n",
      "********************\n",
      "1277\n",
      "average_distance: 0.17748927186252916       category:4\n",
      "std_distance: 0.04010400709341744          category:4\n",
      "********************\n",
      "1370\n",
      "average_distance: 0.17748927186252916       category:5\n",
      "std_distance: 0.042275628699896206          category:5\n",
      "********************\n",
      "4260\n",
      "average_distance: 0.17748927186252916       category:6\n",
      "std_distance: 0.03176592709185818          category:6\n",
      "********************\n",
      "2193\n",
      "average_distance: 0.17748927186252916       category:7\n",
      "std_distance: 0.03844103752780565          category:7\n",
      "********************\n",
      "1\n",
      "3\n"
     ]
    }
   ],
   "source": [
    "\n",
    "grouped = df.groupby('category')\n",
    "\n",
    "avg_distances_per_category = []\n",
    "std_distances_per_category = []\n",
    "\n",
    "for category, group_df in grouped:\n",
    "    category_features = patent_features[group_df.index]\n",
    "    print(group_df.shape[0])\n",
    "\n",
    "    pairwise_distances = pdist(category_features, 'euclidean')\n",
    "\n",
    "    avg_distance = np.mean(pairwise_distances)\n",
    "    std_distance = np.std(pairwise_distances)\n",
    "    \n",
    "    print(f'average_distance: {average_distance}       category:{category}')\n",
    "    print(f'std_distance: {std_distance}          category:{category}')\n",
    "    print(\"*\" * 20)\n",
    "\n",
    "    avg_distances_per_category.append(avg_distance)\n",
    "    std_distances_per_category.append(std_distance)\n",
    "\n",
    "\n",
    "most_condensed_category = np.argmin(std_distances_per_category)\n",
    "most_scattered_category = np.argmax(std_distances_per_category)\n",
    "\n",
    "# most condensed category\n",
    "print(list(grouped.groups.keys())[most_condensed_category])\n",
    "# most scattered category\n",
    "print(list(grouped.groups.keys())[most_scattered_category])"
   ]
  },
  {
   "attachments": {},
   "cell_type": "markdown",
   "metadata": {},
   "source": [
    "8 - What is your analysis from this dataset?"
   ]
  },
  {
   "cell_type": "markdown",
   "metadata": {},
   "source": [
    "با توجه به عدد بالای تعداد حق اختراعاتی که به هم نزدیک و در یم خوشه قرار میگیرند، میتوان گفت که تشابهات آنهایی که در یک خوشه قرار دارند نسبتا نزدیک و \n",
    "تعداد فابل توجهی از داده ها در هر خوشه وجود دارند"
   ]
  },
  {
   "cell_type": "markdown",
   "metadata": {},
   "source": [
    "رده 1: این دسته دارای کمترین انحراف معیار است که نشان می دهد پتنت های این دسته نسبتاً مشابه یکدیگر هستند. میانگین فاصله در این دسته تقریباً 0.177 است که با میانگین کل مجموعه داده مطابقت دارد."
   ]
  },
  {
   "cell_type": "markdown",
   "metadata": {},
   "source": [
    "دسته 3: این دسته دارای بالاترین انحراف معیار است که نشان می دهد پتنت های این دسته دارای تنوع ویژگی های گسترده تری هستند. میانگین فاصله در این دسته نیز تقریباً 0.177 است که مشابه میانگین کل مجموعه داده است. با این حال، انحراف معیار بالاتر نشان دهنده تنوع بیشتر است."
   ]
  },
  {
   "cell_type": "markdown",
   "metadata": {},
   "source": [
    "رده 1 به عنوان متراکم ترین خوشه شناخته می شود، به این معنی که پتنت های این دسته به طور متوسط شباهت زیادی به یکدیگر دارند. دسته 3 به عنوان پراکنده ترین خوشه شناسایی می شود، که نشان می دهد که پتنت های این دسته تنوع بیشتری را در ویژگی های خود دارند."
   ]
  }
 ],
 "metadata": {
  "kernelspec": {
   "display_name": "Python 3",
   "language": "python",
   "name": "python3"
  },
  "language_info": {
   "codemirror_mode": {
    "name": "ipython",
    "version": 3
   },
   "file_extension": ".py",
   "mimetype": "text/x-python",
   "name": "python",
   "nbconvert_exporter": "python",
   "pygments_lexer": "ipython3",
   "version": "3.11.4"
  },
  "orig_nbformat": 4,
  "vscode": {
   "interpreter": {
    "hash": "916dbcbb3f70747c44a77c7bcd40155683ae19c65e1c03b4aa3499c5328201f1"
   }
  }
 },
 "nbformat": 4,
 "nbformat_minor": 2
}
